{
  "nbformat": 4,
  "nbformat_minor": 0,
  "metadata": {
    "colab": {
      "provenance": [],
      "toc_visible": true,
      "collapsed_sections": [
        "ludd97fbd043",
        "wUvHI0-xc1DV",
        "zqaIjn-khP4A",
        "g3iCnFAbiHiu",
        "eEQMK9TWraMp",
        "xcx_ucI3rl3j",
        "392RmUz8s8QU",
        "ibH43dPSDGCy",
        "Z58cVjnODwx_",
        "hulAcxf3D8h1",
        "0hIZpc14qtC0",
        "6qhpn6ZQaR5f"
      ],
      "include_colab_link": true
    },
    "kernelspec": {
      "name": "python3",
      "display_name": "Python 3"
    },
    "language_info": {
      "name": "python"
    }
  },
  "cells": [
    {
      "cell_type": "markdown",
      "metadata": {
        "id": "view-in-github",
        "colab_type": "text"
      },
      "source": [
        "<a href=\"https://colab.research.google.com/github/Echevarriaj93/Data_in_Motion_weeklies/blob/main/usa_housing_listing_EDA.ipynb\" target=\"_parent\"><img src=\"https://colab.research.google.com/assets/colab-badge.svg\" alt=\"Open In Colab\"/></a>"
      ]
    },
    {
      "cell_type": "code",
      "source": [
        "from google.colab import drive\n",
        "drive.mount('/content/drive')"
      ],
      "metadata": {
        "colab": {
          "base_uri": "https://localhost:8080/"
        },
        "id": "A4jXDm5JSf2w",
        "outputId": "df43e85e-05fb-479f-dfde-abc8f8046bb2"
      },
      "execution_count": 1,
      "outputs": [
        {
          "output_type": "stream",
          "name": "stdout",
          "text": [
            "Mounted at /content/drive\n"
          ]
        }
      ]
    },
    {
      "cell_type": "markdown",
      "source": [
        "# **USA Housing Listings**\n",
        "\n",
        "\n",
        "## In this project we observe and analyze the USA housing Listings (rentals) dataset from Kaggle. We will fromulate questions that interest us about the data and that might help organizations identify investment opportunities.\n",
        "\n",
        "\n",
        "\n",
        "**Details form Kaggle:**\n",
        "\n",
        "About Dataset\n",
        "Context\n",
        "Craigslist is the world's largest collection of privately sold housing options, yet it's very difficult to collect all of them in the same place. I built this dataset as a means in by which to perform experimental analysis on the United States states as a whole instead of isolated urban housing markets.\n",
        "\n",
        "Content\n",
        "This data is scraped every few months, it contains most all relevant information that Craigslist provides on retail sales\n",
        "\n",
        "Source: https://www.kaggle.com/datasets/austinreese/usa-housing-listings\n"
      ],
      "metadata": {
        "id": "gHxGKNSsVlZv"
      }
    },
    {
      "cell_type": "code",
      "execution_count": 2,
      "metadata": {
        "id": "42Gxr1zqVbmz"
      },
      "outputs": [],
      "source": [
        "#importing dependencies\n",
        "\n",
        "import pandas as pd\n",
        "import numpy as np\n",
        "import matplotlib.pyplot as plt\n",
        "import seaborn as sns\n",
        "\n",
        "\n"
      ]
    },
    {
      "cell_type": "markdown",
      "source": [
        "# **Importing the Data**"
      ],
      "metadata": {
        "id": "qjonn8xbW25D"
      }
    },
    {
      "cell_type": "code",
      "source": [
        "#importing as csv\n",
        "\n",
        "data = pd.read_csv('/content/drive/MyDrive/housing.csv')\n",
        "\n",
        "data.head()"
      ],
      "metadata": {
        "id": "f7wGnrGYWxDy",
        "colab": {
          "base_uri": "https://localhost:8080/",
          "height": 508
        },
        "outputId": "05de9b13-4af0-411a-e983-bf554f4087f5"
      },
      "execution_count": 3,
      "outputs": [
        {
          "output_type": "execute_result",
          "data": {
            "text/plain": [
              "           id                                                url  \\\n",
              "0  7049044568  https://reno.craigslist.org/apa/d/reno-beautif...   \n",
              "1  7049047186  https://reno.craigslist.org/apa/d/reno-reduced...   \n",
              "2  7043634882  https://reno.craigslist.org/apa/d/sparks-state...   \n",
              "3  7049045324  https://reno.craigslist.org/apa/d/reno-1x1-fir...   \n",
              "4  7049043759  https://reno.craigslist.org/apa/d/reno-no-long...   \n",
              "\n",
              "         region                   region_url  price       type  sqfeet  beds  \\\n",
              "0  reno / tahoe  https://reno.craigslist.org   1148  apartment    1078     3   \n",
              "1  reno / tahoe  https://reno.craigslist.org   1200      condo    1001     2   \n",
              "2  reno / tahoe  https://reno.craigslist.org   1813  apartment    1683     2   \n",
              "3  reno / tahoe  https://reno.craigslist.org   1095  apartment     708     1   \n",
              "4  reno / tahoe  https://reno.craigslist.org    289  apartment     250     0   \n",
              "\n",
              "   baths  cats_allowed  ...  wheelchair_access  electric_vehicle_charge  \\\n",
              "0    2.0             1  ...                  0                        0   \n",
              "1    2.0             0  ...                  0                        0   \n",
              "2    2.0             1  ...                  0                        0   \n",
              "3    1.0             1  ...                  0                        0   \n",
              "4    1.0             1  ...                  1                        0   \n",
              "\n",
              "   comes_furnished  laundry_options  parking_options  \\\n",
              "0                0      w/d in unit          carport   \n",
              "1                0      w/d hookups          carport   \n",
              "2                0      w/d in unit  attached garage   \n",
              "3                0      w/d in unit          carport   \n",
              "4                1  laundry on site              NaN   \n",
              "\n",
              "                                           image_url  \\\n",
              "0  https://images.craigslist.org/01616_daghmBUvTC...   \n",
              "1  https://images.craigslist.org/00V0V_5va0MkgO9q...   \n",
              "2  https://images.craigslist.org/00t0t_erYqC6LgB8...   \n",
              "3  https://images.craigslist.org/00303_3HSJz75zlI...   \n",
              "4  https://images.craigslist.org/01616_fALAWFV8zQ...   \n",
              "\n",
              "                                         description      lat     long  state  \n",
              "0  Ridgeview by Vintage is where you will find al...  39.5483 -119.796     ca  \n",
              "1  Conveniently located in the middle town of Ren...  39.5026 -119.789     ca  \n",
              "2  2BD | 2BA | 1683SQFTDiscover exceptional servi...  39.6269 -119.708     ca  \n",
              "3  MOVE IN SPECIAL FREE WASHER/DRYER WITH 6 OR 12...  39.4477 -119.771     ca  \n",
              "4  Move In Today: Reno Low-Cost, Clean & Furnishe...  39.5357 -119.805     ca  \n",
              "\n",
              "[5 rows x 22 columns]"
            ],
            "text/html": [
              "\n",
              "  <div id=\"df-e8d12072-996b-45f1-9942-ce2279fb222a\">\n",
              "    <div class=\"colab-df-container\">\n",
              "      <div>\n",
              "<style scoped>\n",
              "    .dataframe tbody tr th:only-of-type {\n",
              "        vertical-align: middle;\n",
              "    }\n",
              "\n",
              "    .dataframe tbody tr th {\n",
              "        vertical-align: top;\n",
              "    }\n",
              "\n",
              "    .dataframe thead th {\n",
              "        text-align: right;\n",
              "    }\n",
              "</style>\n",
              "<table border=\"1\" class=\"dataframe\">\n",
              "  <thead>\n",
              "    <tr style=\"text-align: right;\">\n",
              "      <th></th>\n",
              "      <th>id</th>\n",
              "      <th>url</th>\n",
              "      <th>region</th>\n",
              "      <th>region_url</th>\n",
              "      <th>price</th>\n",
              "      <th>type</th>\n",
              "      <th>sqfeet</th>\n",
              "      <th>beds</th>\n",
              "      <th>baths</th>\n",
              "      <th>cats_allowed</th>\n",
              "      <th>...</th>\n",
              "      <th>wheelchair_access</th>\n",
              "      <th>electric_vehicle_charge</th>\n",
              "      <th>comes_furnished</th>\n",
              "      <th>laundry_options</th>\n",
              "      <th>parking_options</th>\n",
              "      <th>image_url</th>\n",
              "      <th>description</th>\n",
              "      <th>lat</th>\n",
              "      <th>long</th>\n",
              "      <th>state</th>\n",
              "    </tr>\n",
              "  </thead>\n",
              "  <tbody>\n",
              "    <tr>\n",
              "      <th>0</th>\n",
              "      <td>7049044568</td>\n",
              "      <td>https://reno.craigslist.org/apa/d/reno-beautif...</td>\n",
              "      <td>reno / tahoe</td>\n",
              "      <td>https://reno.craigslist.org</td>\n",
              "      <td>1148</td>\n",
              "      <td>apartment</td>\n",
              "      <td>1078</td>\n",
              "      <td>3</td>\n",
              "      <td>2.0</td>\n",
              "      <td>1</td>\n",
              "      <td>...</td>\n",
              "      <td>0</td>\n",
              "      <td>0</td>\n",
              "      <td>0</td>\n",
              "      <td>w/d in unit</td>\n",
              "      <td>carport</td>\n",
              "      <td>https://images.craigslist.org/01616_daghmBUvTC...</td>\n",
              "      <td>Ridgeview by Vintage is where you will find al...</td>\n",
              "      <td>39.5483</td>\n",
              "      <td>-119.796</td>\n",
              "      <td>ca</td>\n",
              "    </tr>\n",
              "    <tr>\n",
              "      <th>1</th>\n",
              "      <td>7049047186</td>\n",
              "      <td>https://reno.craigslist.org/apa/d/reno-reduced...</td>\n",
              "      <td>reno / tahoe</td>\n",
              "      <td>https://reno.craigslist.org</td>\n",
              "      <td>1200</td>\n",
              "      <td>condo</td>\n",
              "      <td>1001</td>\n",
              "      <td>2</td>\n",
              "      <td>2.0</td>\n",
              "      <td>0</td>\n",
              "      <td>...</td>\n",
              "      <td>0</td>\n",
              "      <td>0</td>\n",
              "      <td>0</td>\n",
              "      <td>w/d hookups</td>\n",
              "      <td>carport</td>\n",
              "      <td>https://images.craigslist.org/00V0V_5va0MkgO9q...</td>\n",
              "      <td>Conveniently located in the middle town of Ren...</td>\n",
              "      <td>39.5026</td>\n",
              "      <td>-119.789</td>\n",
              "      <td>ca</td>\n",
              "    </tr>\n",
              "    <tr>\n",
              "      <th>2</th>\n",
              "      <td>7043634882</td>\n",
              "      <td>https://reno.craigslist.org/apa/d/sparks-state...</td>\n",
              "      <td>reno / tahoe</td>\n",
              "      <td>https://reno.craigslist.org</td>\n",
              "      <td>1813</td>\n",
              "      <td>apartment</td>\n",
              "      <td>1683</td>\n",
              "      <td>2</td>\n",
              "      <td>2.0</td>\n",
              "      <td>1</td>\n",
              "      <td>...</td>\n",
              "      <td>0</td>\n",
              "      <td>0</td>\n",
              "      <td>0</td>\n",
              "      <td>w/d in unit</td>\n",
              "      <td>attached garage</td>\n",
              "      <td>https://images.craigslist.org/00t0t_erYqC6LgB8...</td>\n",
              "      <td>2BD | 2BA | 1683SQFTDiscover exceptional servi...</td>\n",
              "      <td>39.6269</td>\n",
              "      <td>-119.708</td>\n",
              "      <td>ca</td>\n",
              "    </tr>\n",
              "    <tr>\n",
              "      <th>3</th>\n",
              "      <td>7049045324</td>\n",
              "      <td>https://reno.craigslist.org/apa/d/reno-1x1-fir...</td>\n",
              "      <td>reno / tahoe</td>\n",
              "      <td>https://reno.craigslist.org</td>\n",
              "      <td>1095</td>\n",
              "      <td>apartment</td>\n",
              "      <td>708</td>\n",
              "      <td>1</td>\n",
              "      <td>1.0</td>\n",
              "      <td>1</td>\n",
              "      <td>...</td>\n",
              "      <td>0</td>\n",
              "      <td>0</td>\n",
              "      <td>0</td>\n",
              "      <td>w/d in unit</td>\n",
              "      <td>carport</td>\n",
              "      <td>https://images.craigslist.org/00303_3HSJz75zlI...</td>\n",
              "      <td>MOVE IN SPECIAL FREE WASHER/DRYER WITH 6 OR 12...</td>\n",
              "      <td>39.4477</td>\n",
              "      <td>-119.771</td>\n",
              "      <td>ca</td>\n",
              "    </tr>\n",
              "    <tr>\n",
              "      <th>4</th>\n",
              "      <td>7049043759</td>\n",
              "      <td>https://reno.craigslist.org/apa/d/reno-no-long...</td>\n",
              "      <td>reno / tahoe</td>\n",
              "      <td>https://reno.craigslist.org</td>\n",
              "      <td>289</td>\n",
              "      <td>apartment</td>\n",
              "      <td>250</td>\n",
              "      <td>0</td>\n",
              "      <td>1.0</td>\n",
              "      <td>1</td>\n",
              "      <td>...</td>\n",
              "      <td>1</td>\n",
              "      <td>0</td>\n",
              "      <td>1</td>\n",
              "      <td>laundry on site</td>\n",
              "      <td>NaN</td>\n",
              "      <td>https://images.craigslist.org/01616_fALAWFV8zQ...</td>\n",
              "      <td>Move In Today: Reno Low-Cost, Clean &amp; Furnishe...</td>\n",
              "      <td>39.5357</td>\n",
              "      <td>-119.805</td>\n",
              "      <td>ca</td>\n",
              "    </tr>\n",
              "  </tbody>\n",
              "</table>\n",
              "<p>5 rows × 22 columns</p>\n",
              "</div>\n",
              "      <button class=\"colab-df-convert\" onclick=\"convertToInteractive('df-e8d12072-996b-45f1-9942-ce2279fb222a')\"\n",
              "              title=\"Convert this dataframe to an interactive table.\"\n",
              "              style=\"display:none;\">\n",
              "        \n",
              "  <svg xmlns=\"http://www.w3.org/2000/svg\" height=\"24px\"viewBox=\"0 0 24 24\"\n",
              "       width=\"24px\">\n",
              "    <path d=\"M0 0h24v24H0V0z\" fill=\"none\"/>\n",
              "    <path d=\"M18.56 5.44l.94 2.06.94-2.06 2.06-.94-2.06-.94-.94-2.06-.94 2.06-2.06.94zm-11 1L8.5 8.5l.94-2.06 2.06-.94-2.06-.94L8.5 2.5l-.94 2.06-2.06.94zm10 10l.94 2.06.94-2.06 2.06-.94-2.06-.94-.94-2.06-.94 2.06-2.06.94z\"/><path d=\"M17.41 7.96l-1.37-1.37c-.4-.4-.92-.59-1.43-.59-.52 0-1.04.2-1.43.59L10.3 9.45l-7.72 7.72c-.78.78-.78 2.05 0 2.83L4 21.41c.39.39.9.59 1.41.59.51 0 1.02-.2 1.41-.59l7.78-7.78 2.81-2.81c.8-.78.8-2.07 0-2.86zM5.41 20L4 18.59l7.72-7.72 1.47 1.35L5.41 20z\"/>\n",
              "  </svg>\n",
              "      </button>\n",
              "      \n",
              "  <style>\n",
              "    .colab-df-container {\n",
              "      display:flex;\n",
              "      flex-wrap:wrap;\n",
              "      gap: 12px;\n",
              "    }\n",
              "\n",
              "    .colab-df-convert {\n",
              "      background-color: #E8F0FE;\n",
              "      border: none;\n",
              "      border-radius: 50%;\n",
              "      cursor: pointer;\n",
              "      display: none;\n",
              "      fill: #1967D2;\n",
              "      height: 32px;\n",
              "      padding: 0 0 0 0;\n",
              "      width: 32px;\n",
              "    }\n",
              "\n",
              "    .colab-df-convert:hover {\n",
              "      background-color: #E2EBFA;\n",
              "      box-shadow: 0px 1px 2px rgba(60, 64, 67, 0.3), 0px 1px 3px 1px rgba(60, 64, 67, 0.15);\n",
              "      fill: #174EA6;\n",
              "    }\n",
              "\n",
              "    [theme=dark] .colab-df-convert {\n",
              "      background-color: #3B4455;\n",
              "      fill: #D2E3FC;\n",
              "    }\n",
              "\n",
              "    [theme=dark] .colab-df-convert:hover {\n",
              "      background-color: #434B5C;\n",
              "      box-shadow: 0px 1px 3px 1px rgba(0, 0, 0, 0.15);\n",
              "      filter: drop-shadow(0px 1px 2px rgba(0, 0, 0, 0.3));\n",
              "      fill: #FFFFFF;\n",
              "    }\n",
              "  </style>\n",
              "\n",
              "      <script>\n",
              "        const buttonEl =\n",
              "          document.querySelector('#df-e8d12072-996b-45f1-9942-ce2279fb222a button.colab-df-convert');\n",
              "        buttonEl.style.display =\n",
              "          google.colab.kernel.accessAllowed ? 'block' : 'none';\n",
              "\n",
              "        async function convertToInteractive(key) {\n",
              "          const element = document.querySelector('#df-e8d12072-996b-45f1-9942-ce2279fb222a');\n",
              "          const dataTable =\n",
              "            await google.colab.kernel.invokeFunction('convertToInteractive',\n",
              "                                                     [key], {});\n",
              "          if (!dataTable) return;\n",
              "\n",
              "          const docLinkHtml = 'Like what you see? Visit the ' +\n",
              "            '<a target=\"_blank\" href=https://colab.research.google.com/notebooks/data_table.ipynb>data table notebook</a>'\n",
              "            + ' to learn more about interactive tables.';\n",
              "          element.innerHTML = '';\n",
              "          dataTable['output_type'] = 'display_data';\n",
              "          await google.colab.output.renderOutput(dataTable, element);\n",
              "          const docLink = document.createElement('div');\n",
              "          docLink.innerHTML = docLinkHtml;\n",
              "          element.appendChild(docLink);\n",
              "        }\n",
              "      </script>\n",
              "    </div>\n",
              "  </div>\n",
              "  "
            ]
          },
          "metadata": {},
          "execution_count": 3
        }
      ]
    },
    {
      "cell_type": "markdown",
      "source": [
        "## **Initial Observations**"
      ],
      "metadata": {
        "id": "1ePS_5AqcmKw"
      }
    },
    {
      "cell_type": "markdown",
      "source": [
        "## The dataset shows some valuable information about living spaces and their features such as laundry, parking, square footage, bedrooms, pets allowed etc.\n",
        "\n",
        "#Naturally, the most resonable target variable is price\n",
        "\n",
        "#We mainly want to observe how the other features affect price and throw in other factors such as location."
      ],
      "metadata": {
        "id": "4sNvGPWcdQl8"
      }
    },
    {
      "cell_type": "code",
      "source": [
        "#Rows and columns\n",
        "\n",
        "data.shape #384977 rows, 22 columns"
      ],
      "metadata": {
        "id": "QanfR0g-cMtv",
        "colab": {
          "base_uri": "https://localhost:8080/"
        },
        "outputId": "c918cf7a-69df-4c7f-cfb3-c18d09bf219e"
      },
      "execution_count": 4,
      "outputs": [
        {
          "output_type": "execute_result",
          "data": {
            "text/plain": [
              "(384977, 22)"
            ]
          },
          "metadata": {},
          "execution_count": 4
        }
      ]
    },
    {
      "cell_type": "code",
      "source": [
        "data.columns"
      ],
      "metadata": {
        "colab": {
          "base_uri": "https://localhost:8080/"
        },
        "id": "1PXHz4gSF-2E",
        "outputId": "2e908ef7-833d-4ffc-f21c-ebb368734767"
      },
      "execution_count": 5,
      "outputs": [
        {
          "output_type": "execute_result",
          "data": {
            "text/plain": [
              "Index(['id', 'url', 'region', 'region_url', 'price', 'type', 'sqfeet', 'beds',\n",
              "       'baths', 'cats_allowed', 'dogs_allowed', 'smoking_allowed',\n",
              "       'wheelchair_access', 'electric_vehicle_charge', 'comes_furnished',\n",
              "       'laundry_options', 'parking_options', 'image_url', 'description', 'lat',\n",
              "       'long', 'state'],\n",
              "      dtype='object')"
            ]
          },
          "metadata": {},
          "execution_count": 5
        }
      ]
    },
    {
      "cell_type": "code",
      "source": [
        "#Summary Statistics\n",
        "\n",
        "data.describe()"
      ],
      "metadata": {
        "colab": {
          "base_uri": "https://localhost:8080/",
          "height": 364
        },
        "id": "9tqCF3eutd77",
        "outputId": "dc5c9845-db7f-454d-b024-3e5541cba30e"
      },
      "execution_count": 6,
      "outputs": [
        {
          "output_type": "execute_result",
          "data": {
            "text/plain": [
              "                 id         price        sqfeet           beds          baths  \\\n",
              "count  3.849770e+05  3.849770e+05  3.849770e+05  384977.000000  384977.000000   \n",
              "mean   7.040982e+09  8.825722e+03  1.059900e+03       1.905345       1.480718   \n",
              "std    8.800376e+06  4.462200e+06  1.915076e+04       3.494572       0.618061   \n",
              "min    7.003808e+09  0.000000e+00  0.000000e+00       0.000000       0.000000   \n",
              "25%    7.035979e+09  8.050000e+02  7.500000e+02       1.000000       1.000000   \n",
              "50%    7.043320e+09  1.036000e+03  9.490000e+02       2.000000       1.000000   \n",
              "75%    7.048426e+09  1.395000e+03  1.150000e+03       2.000000       2.000000   \n",
              "max    7.051292e+09  2.768307e+09  8.388607e+06    1100.000000      75.000000   \n",
              "\n",
              "        cats_allowed   dogs_allowed  smoking_allowed  wheelchair_access  \\\n",
              "count  384977.000000  384977.000000    384977.000000      384977.000000   \n",
              "mean        0.726890       0.707918         0.731771           0.082111   \n",
              "std         0.445557       0.454721         0.443038           0.274535   \n",
              "min         0.000000       0.000000         0.000000           0.000000   \n",
              "25%         0.000000       0.000000         0.000000           0.000000   \n",
              "50%         1.000000       1.000000         1.000000           0.000000   \n",
              "75%         1.000000       1.000000         1.000000           0.000000   \n",
              "max         1.000000       1.000000         1.000000           1.000000   \n",
              "\n",
              "       electric_vehicle_charge  comes_furnished            lat           long  \n",
              "count            384977.000000    384977.000000  383059.000000  383059.000000  \n",
              "mean                  0.012871         0.048128      37.233487     -92.700631  \n",
              "std                   0.112718         0.214036       5.546171      16.531980  \n",
              "min                   0.000000         0.000000     -43.533300    -163.894000  \n",
              "25%                   0.000000         0.000000      33.454700    -100.775000  \n",
              "50%                   0.000000         0.000000      37.647800     -87.745100  \n",
              "75%                   0.000000         0.000000      41.138300     -81.179600  \n",
              "max                   1.000000         1.000000     102.036000     172.633000  "
            ],
            "text/html": [
              "\n",
              "  <div id=\"df-c7b683de-05f6-4780-bf20-8eca6c0c1651\">\n",
              "    <div class=\"colab-df-container\">\n",
              "      <div>\n",
              "<style scoped>\n",
              "    .dataframe tbody tr th:only-of-type {\n",
              "        vertical-align: middle;\n",
              "    }\n",
              "\n",
              "    .dataframe tbody tr th {\n",
              "        vertical-align: top;\n",
              "    }\n",
              "\n",
              "    .dataframe thead th {\n",
              "        text-align: right;\n",
              "    }\n",
              "</style>\n",
              "<table border=\"1\" class=\"dataframe\">\n",
              "  <thead>\n",
              "    <tr style=\"text-align: right;\">\n",
              "      <th></th>\n",
              "      <th>id</th>\n",
              "      <th>price</th>\n",
              "      <th>sqfeet</th>\n",
              "      <th>beds</th>\n",
              "      <th>baths</th>\n",
              "      <th>cats_allowed</th>\n",
              "      <th>dogs_allowed</th>\n",
              "      <th>smoking_allowed</th>\n",
              "      <th>wheelchair_access</th>\n",
              "      <th>electric_vehicle_charge</th>\n",
              "      <th>comes_furnished</th>\n",
              "      <th>lat</th>\n",
              "      <th>long</th>\n",
              "    </tr>\n",
              "  </thead>\n",
              "  <tbody>\n",
              "    <tr>\n",
              "      <th>count</th>\n",
              "      <td>3.849770e+05</td>\n",
              "      <td>3.849770e+05</td>\n",
              "      <td>3.849770e+05</td>\n",
              "      <td>384977.000000</td>\n",
              "      <td>384977.000000</td>\n",
              "      <td>384977.000000</td>\n",
              "      <td>384977.000000</td>\n",
              "      <td>384977.000000</td>\n",
              "      <td>384977.000000</td>\n",
              "      <td>384977.000000</td>\n",
              "      <td>384977.000000</td>\n",
              "      <td>383059.000000</td>\n",
              "      <td>383059.000000</td>\n",
              "    </tr>\n",
              "    <tr>\n",
              "      <th>mean</th>\n",
              "      <td>7.040982e+09</td>\n",
              "      <td>8.825722e+03</td>\n",
              "      <td>1.059900e+03</td>\n",
              "      <td>1.905345</td>\n",
              "      <td>1.480718</td>\n",
              "      <td>0.726890</td>\n",
              "      <td>0.707918</td>\n",
              "      <td>0.731771</td>\n",
              "      <td>0.082111</td>\n",
              "      <td>0.012871</td>\n",
              "      <td>0.048128</td>\n",
              "      <td>37.233487</td>\n",
              "      <td>-92.700631</td>\n",
              "    </tr>\n",
              "    <tr>\n",
              "      <th>std</th>\n",
              "      <td>8.800376e+06</td>\n",
              "      <td>4.462200e+06</td>\n",
              "      <td>1.915076e+04</td>\n",
              "      <td>3.494572</td>\n",
              "      <td>0.618061</td>\n",
              "      <td>0.445557</td>\n",
              "      <td>0.454721</td>\n",
              "      <td>0.443038</td>\n",
              "      <td>0.274535</td>\n",
              "      <td>0.112718</td>\n",
              "      <td>0.214036</td>\n",
              "      <td>5.546171</td>\n",
              "      <td>16.531980</td>\n",
              "    </tr>\n",
              "    <tr>\n",
              "      <th>min</th>\n",
              "      <td>7.003808e+09</td>\n",
              "      <td>0.000000e+00</td>\n",
              "      <td>0.000000e+00</td>\n",
              "      <td>0.000000</td>\n",
              "      <td>0.000000</td>\n",
              "      <td>0.000000</td>\n",
              "      <td>0.000000</td>\n",
              "      <td>0.000000</td>\n",
              "      <td>0.000000</td>\n",
              "      <td>0.000000</td>\n",
              "      <td>0.000000</td>\n",
              "      <td>-43.533300</td>\n",
              "      <td>-163.894000</td>\n",
              "    </tr>\n",
              "    <tr>\n",
              "      <th>25%</th>\n",
              "      <td>7.035979e+09</td>\n",
              "      <td>8.050000e+02</td>\n",
              "      <td>7.500000e+02</td>\n",
              "      <td>1.000000</td>\n",
              "      <td>1.000000</td>\n",
              "      <td>0.000000</td>\n",
              "      <td>0.000000</td>\n",
              "      <td>0.000000</td>\n",
              "      <td>0.000000</td>\n",
              "      <td>0.000000</td>\n",
              "      <td>0.000000</td>\n",
              "      <td>33.454700</td>\n",
              "      <td>-100.775000</td>\n",
              "    </tr>\n",
              "    <tr>\n",
              "      <th>50%</th>\n",
              "      <td>7.043320e+09</td>\n",
              "      <td>1.036000e+03</td>\n",
              "      <td>9.490000e+02</td>\n",
              "      <td>2.000000</td>\n",
              "      <td>1.000000</td>\n",
              "      <td>1.000000</td>\n",
              "      <td>1.000000</td>\n",
              "      <td>1.000000</td>\n",
              "      <td>0.000000</td>\n",
              "      <td>0.000000</td>\n",
              "      <td>0.000000</td>\n",
              "      <td>37.647800</td>\n",
              "      <td>-87.745100</td>\n",
              "    </tr>\n",
              "    <tr>\n",
              "      <th>75%</th>\n",
              "      <td>7.048426e+09</td>\n",
              "      <td>1.395000e+03</td>\n",
              "      <td>1.150000e+03</td>\n",
              "      <td>2.000000</td>\n",
              "      <td>2.000000</td>\n",
              "      <td>1.000000</td>\n",
              "      <td>1.000000</td>\n",
              "      <td>1.000000</td>\n",
              "      <td>0.000000</td>\n",
              "      <td>0.000000</td>\n",
              "      <td>0.000000</td>\n",
              "      <td>41.138300</td>\n",
              "      <td>-81.179600</td>\n",
              "    </tr>\n",
              "    <tr>\n",
              "      <th>max</th>\n",
              "      <td>7.051292e+09</td>\n",
              "      <td>2.768307e+09</td>\n",
              "      <td>8.388607e+06</td>\n",
              "      <td>1100.000000</td>\n",
              "      <td>75.000000</td>\n",
              "      <td>1.000000</td>\n",
              "      <td>1.000000</td>\n",
              "      <td>1.000000</td>\n",
              "      <td>1.000000</td>\n",
              "      <td>1.000000</td>\n",
              "      <td>1.000000</td>\n",
              "      <td>102.036000</td>\n",
              "      <td>172.633000</td>\n",
              "    </tr>\n",
              "  </tbody>\n",
              "</table>\n",
              "</div>\n",
              "      <button class=\"colab-df-convert\" onclick=\"convertToInteractive('df-c7b683de-05f6-4780-bf20-8eca6c0c1651')\"\n",
              "              title=\"Convert this dataframe to an interactive table.\"\n",
              "              style=\"display:none;\">\n",
              "        \n",
              "  <svg xmlns=\"http://www.w3.org/2000/svg\" height=\"24px\"viewBox=\"0 0 24 24\"\n",
              "       width=\"24px\">\n",
              "    <path d=\"M0 0h24v24H0V0z\" fill=\"none\"/>\n",
              "    <path d=\"M18.56 5.44l.94 2.06.94-2.06 2.06-.94-2.06-.94-.94-2.06-.94 2.06-2.06.94zm-11 1L8.5 8.5l.94-2.06 2.06-.94-2.06-.94L8.5 2.5l-.94 2.06-2.06.94zm10 10l.94 2.06.94-2.06 2.06-.94-2.06-.94-.94-2.06-.94 2.06-2.06.94z\"/><path d=\"M17.41 7.96l-1.37-1.37c-.4-.4-.92-.59-1.43-.59-.52 0-1.04.2-1.43.59L10.3 9.45l-7.72 7.72c-.78.78-.78 2.05 0 2.83L4 21.41c.39.39.9.59 1.41.59.51 0 1.02-.2 1.41-.59l7.78-7.78 2.81-2.81c.8-.78.8-2.07 0-2.86zM5.41 20L4 18.59l7.72-7.72 1.47 1.35L5.41 20z\"/>\n",
              "  </svg>\n",
              "      </button>\n",
              "      \n",
              "  <style>\n",
              "    .colab-df-container {\n",
              "      display:flex;\n",
              "      flex-wrap:wrap;\n",
              "      gap: 12px;\n",
              "    }\n",
              "\n",
              "    .colab-df-convert {\n",
              "      background-color: #E8F0FE;\n",
              "      border: none;\n",
              "      border-radius: 50%;\n",
              "      cursor: pointer;\n",
              "      display: none;\n",
              "      fill: #1967D2;\n",
              "      height: 32px;\n",
              "      padding: 0 0 0 0;\n",
              "      width: 32px;\n",
              "    }\n",
              "\n",
              "    .colab-df-convert:hover {\n",
              "      background-color: #E2EBFA;\n",
              "      box-shadow: 0px 1px 2px rgba(60, 64, 67, 0.3), 0px 1px 3px 1px rgba(60, 64, 67, 0.15);\n",
              "      fill: #174EA6;\n",
              "    }\n",
              "\n",
              "    [theme=dark] .colab-df-convert {\n",
              "      background-color: #3B4455;\n",
              "      fill: #D2E3FC;\n",
              "    }\n",
              "\n",
              "    [theme=dark] .colab-df-convert:hover {\n",
              "      background-color: #434B5C;\n",
              "      box-shadow: 0px 1px 3px 1px rgba(0, 0, 0, 0.15);\n",
              "      filter: drop-shadow(0px 1px 2px rgba(0, 0, 0, 0.3));\n",
              "      fill: #FFFFFF;\n",
              "    }\n",
              "  </style>\n",
              "\n",
              "      <script>\n",
              "        const buttonEl =\n",
              "          document.querySelector('#df-c7b683de-05f6-4780-bf20-8eca6c0c1651 button.colab-df-convert');\n",
              "        buttonEl.style.display =\n",
              "          google.colab.kernel.accessAllowed ? 'block' : 'none';\n",
              "\n",
              "        async function convertToInteractive(key) {\n",
              "          const element = document.querySelector('#df-c7b683de-05f6-4780-bf20-8eca6c0c1651');\n",
              "          const dataTable =\n",
              "            await google.colab.kernel.invokeFunction('convertToInteractive',\n",
              "                                                     [key], {});\n",
              "          if (!dataTable) return;\n",
              "\n",
              "          const docLinkHtml = 'Like what you see? Visit the ' +\n",
              "            '<a target=\"_blank\" href=https://colab.research.google.com/notebooks/data_table.ipynb>data table notebook</a>'\n",
              "            + ' to learn more about interactive tables.';\n",
              "          element.innerHTML = '';\n",
              "          dataTable['output_type'] = 'display_data';\n",
              "          await google.colab.output.renderOutput(dataTable, element);\n",
              "          const docLink = document.createElement('div');\n",
              "          docLink.innerHTML = docLinkHtml;\n",
              "          element.appendChild(docLink);\n",
              "        }\n",
              "      </script>\n",
              "    </div>\n",
              "  </div>\n",
              "  "
            ]
          },
          "metadata": {},
          "execution_count": 6
        }
      ]
    },
    {
      "cell_type": "code",
      "source": [
        "#price has a lot of 0 values which are not helpful. Rent/mortgages cost money.\n",
        "# we will drop anything below $500\n",
        "\n",
        "data  = data[data['price'] >= 500]\n",
        "\n",
        "\n",
        "data['price'].sort_values()"
      ],
      "metadata": {
        "colab": {
          "base_uri": "https://localhost:8080/"
        },
        "id": "u_VBbyppFk88",
        "outputId": "853a9e0e-71bf-42c1-8963-5f3edecbbdfc"
      },
      "execution_count": 7,
      "outputs": [
        {
          "output_type": "execute_result",
          "data": {
            "text/plain": [
              "368905           500\n",
              "90851            500\n",
              "235641           500\n",
              "235642           500\n",
              "26091            500\n",
              "             ...    \n",
              "37586       12000000\n",
              "211107      18502000\n",
              "211106      18502000\n",
              "372726      21701907\n",
              "74809     2768307249\n",
              "Name: price, Length: 375083, dtype: int64"
            ]
          },
          "metadata": {},
          "execution_count": 7
        }
      ]
    },
    {
      "cell_type": "code",
      "source": [
        "# Most states have adopted building and zoning codes from the \n",
        "#International Residential Code (IRC). The IRC codes require \n",
        "#that all homes must be built on a minimum of 320 square feet.\n",
        "\n",
        "data  = data[data['sqfeet'] >= 700] #going to raise this to avg sqfeet/reaosonable\n",
        "\n",
        "data['sqfeet'].sort_values()"
      ],
      "metadata": {
        "colab": {
          "base_uri": "https://localhost:8080/"
        },
        "id": "6oNklKFPIFwh",
        "outputId": "ca750ef0-f3b1-401b-d72f-09afd0c5961e"
      },
      "execution_count": 8,
      "outputs": [
        {
          "output_type": "execute_result",
          "data": {
            "text/plain": [
              "57783         700\n",
              "170677        700\n",
              "170680        700\n",
              "43886         700\n",
              "85686         700\n",
              "           ...   \n",
              "140646     999999\n",
              "6607      1019856\n",
              "6608      1019856\n",
              "356695    8000000\n",
              "159607    8388607\n",
              "Name: sqfeet, Length: 311640, dtype: int64"
            ]
          },
          "metadata": {},
          "execution_count": 8
        }
      ]
    },
    {
      "cell_type": "code",
      "source": [
        "# We only want to consider apartments with at least 1 bed\n",
        "\n",
        "data = data[data['beds'] >= 1]\n",
        "\n"
      ],
      "metadata": {
        "id": "odvZenEvBrAW"
      },
      "execution_count": 9,
      "outputs": []
    },
    {
      "cell_type": "markdown",
      "source": [
        "# **1. Cleaning the Data**"
      ],
      "metadata": {
        "id": "1MhyDoCOWarC"
      }
    },
    {
      "cell_type": "code",
      "source": [
        "#We will use a copy of the data to make any changes for analysis\n",
        "\n",
        "df = data.copy()"
      ],
      "metadata": {
        "id": "GUOA892yfvNL"
      },
      "execution_count": 10,
      "outputs": []
    },
    {
      "cell_type": "markdown",
      "source": [
        "## 1.1 Data Types"
      ],
      "metadata": {
        "id": "ludd97fbd043"
      }
    },
    {
      "cell_type": "code",
      "source": [
        "#Column names and data types of the values\n",
        "\n",
        "df.dtypes #the data types seem to be in favorable forms"
      ],
      "metadata": {
        "colab": {
          "base_uri": "https://localhost:8080/"
        },
        "id": "8a5oTbvrd9Os",
        "outputId": "8d6a0901-7094-4a2d-c85c-cebf5a547bca"
      },
      "execution_count": 11,
      "outputs": [
        {
          "output_type": "execute_result",
          "data": {
            "text/plain": [
              "id                           int64\n",
              "url                         object\n",
              "region                      object\n",
              "region_url                  object\n",
              "price                        int64\n",
              "type                        object\n",
              "sqfeet                       int64\n",
              "beds                         int64\n",
              "baths                      float64\n",
              "cats_allowed                 int64\n",
              "dogs_allowed                 int64\n",
              "smoking_allowed              int64\n",
              "wheelchair_access            int64\n",
              "electric_vehicle_charge      int64\n",
              "comes_furnished              int64\n",
              "laundry_options             object\n",
              "parking_options             object\n",
              "image_url                   object\n",
              "description                 object\n",
              "lat                        float64\n",
              "long                       float64\n",
              "state                       object\n",
              "dtype: object"
            ]
          },
          "metadata": {},
          "execution_count": 11
        }
      ]
    },
    {
      "cell_type": "markdown",
      "source": [
        "## 1.2 Dealing with NaN values\n",
        "\n",
        "###When dealing with NaN values we had 4 options\n",
        "\n"
      ],
      "metadata": {
        "id": "wUvHI0-xc1DV"
      }
    },
    {
      "cell_type": "code",
      "source": [
        "## Option 1: Drop all NaN values. We would still have over 200k rows well over minimum required\n",
        "\n",
        "df.dropna(how='any').shape"
      ],
      "metadata": {
        "colab": {
          "base_uri": "https://localhost:8080/"
        },
        "id": "TeHxa9CYeMjd",
        "outputId": "0e19e826-b2d7-4a2e-ec90-7a187b14bef9"
      },
      "execution_count": 12,
      "outputs": [
        {
          "output_type": "execute_result",
          "data": {
            "text/plain": [
              "(191414, 22)"
            ]
          },
          "metadata": {},
          "execution_count": 12
        }
      ]
    },
    {
      "cell_type": "code",
      "source": [
        "## Option 2: Replace missing values with the most frequent value:\n",
        "# w/d in unit is most common but it is highly skewed\n",
        "\n",
        "df['laundry_options'].value_counts()\n",
        "\n",
        "df['laundry_options'].fillna('w/d in unit' ).value_counts() #Likely a false representation of the reality\n"
      ],
      "metadata": {
        "colab": {
          "base_uri": "https://localhost:8080/"
        },
        "id": "l0Fqx-qcWS7F",
        "outputId": "3804d290-257e-4fa3-8d13-e141983013a9"
      },
      "execution_count": 13,
      "outputs": [
        {
          "output_type": "execute_result",
          "data": {
            "text/plain": [
              "w/d in unit           178522\n",
              "w/d hookups            69134\n",
              "laundry on site        36603\n",
              "laundry in bldg        24914\n",
              "no laundry on site      1847\n",
              "Name: laundry_options, dtype: int64"
            ]
          },
          "metadata": {},
          "execution_count": 13
        }
      ]
    },
    {
      "cell_type": "code",
      "source": [
        "## Option 3: Use a classification model to predict the missing values based on other features\n",
        "\n",
        "####Out of the scope of this class. May not really gain us any extra points####\n",
        "\n",
        "#Classification model with 3 neighbers yielded 73% accuraccy on the test data.\n",
        "\n",
        "df_cat = df.dropna(how='any')\n",
        "\n",
        "#No. I believe Washer and Dryer are too important of a feature to dismiss.\n",
        "\n",
        "from sklearn.model_selection import train_test_split\n",
        "from sklearn.neighbors import KNeighborsClassifier\n",
        "from sklearn.metrics import classification_report, confusion_matrix\n",
        "\n",
        "X = df_cat[['price', 'sqfeet', 'beds', 'baths', 'cats_allowed', 'dogs_allowed', 'smoking_allowed','wheelchair_access', 'electric_vehicle_charge', 'comes_furnished']]\n",
        "\n",
        "y = df_cat['laundry_options']\n",
        "\n",
        "X_train, X_test, y_train, y_test = train_test_split(X, y, test_size=0.33, random_state=42)\n",
        "\n",
        "\n",
        "\n",
        "for n in range(2,13):\n",
        "    KNN = KNeighborsClassifier(n_neighbors=n)\n",
        "\n",
        "    KNN.fit(X_train, y_train)\n",
        "    \n",
        "    #predicting the y values with the test features\n",
        "    y_pred = KNN.predict(X_test)\n",
        "    \n",
        "    #R2 score\n",
        "    print(\"n_neighbors =\", n)\n",
        "    print('train, test scores')\n",
        "    print(KNN.score(X_train, y_train))\n",
        "    print(KNN.score(X_test, y_test))\n",
        "    print()"
      ],
      "metadata": {
        "colab": {
          "base_uri": "https://localhost:8080/"
        },
        "id": "87uSrdUafN24",
        "outputId": "9b8a9d42-c402-4f16-8797-2b7d7ed26ce0"
      },
      "execution_count": 14,
      "outputs": [
        {
          "output_type": "stream",
          "name": "stdout",
          "text": [
            "n_neighbors = 2\n",
            "train, test scores\n",
            "0.864807753787613\n",
            "0.7199645384457074\n",
            "\n",
            "n_neighbors = 3\n",
            "train, test scores\n",
            "0.845360905128385\n",
            "0.7390567859800212\n",
            "\n",
            "n_neighbors = 4\n",
            "train, test scores\n",
            "0.8198866250282658\n",
            "0.729368182753653\n",
            "\n",
            "n_neighbors = 5\n",
            "train, test scores\n",
            "0.8052741974471138\n",
            "0.7262811278040749\n",
            "\n",
            "n_neighbors = 6\n",
            "train, test scores\n",
            "0.7887747861548419\n",
            "0.7188405338230405\n",
            "\n",
            "n_neighbors = 7\n",
            "train, test scores\n",
            "0.7777257947554329\n",
            "0.7171941045165988\n",
            "\n",
            "n_neighbors = 8\n",
            "train, test scores\n",
            "0.7664272848487684\n",
            "0.7117323919134991\n",
            "\n",
            "n_neighbors = 9\n",
            "train, test scores\n",
            "0.7572340873470724\n",
            "0.7072522044738551\n",
            "\n",
            "n_neighbors = 10\n",
            "train, test scores\n",
            "0.7487270657403292\n",
            "0.7006348251460415\n",
            "\n",
            "n_neighbors = 11\n",
            "train, test scores\n",
            "0.7412960926961254\n",
            "0.6965979071350547\n",
            "\n",
            "n_neighbors = 12\n",
            "train, test scores\n",
            "0.735065927468089\n",
            "0.692497664919974\n",
            "\n"
          ]
        }
      ]
    },
    {
      "cell_type": "code",
      "source": [
        "#Option 4: Drop the columns\n",
        "\n",
        "#We find that the Laundry and Parking columns would be too important of features to drop"
      ],
      "metadata": {
        "id": "iAGM36ogfUii"
      },
      "execution_count": 15,
      "outputs": []
    },
    {
      "cell_type": "markdown",
      "source": [
        "## We will proceed with option 1. Dropping all rows with NaN values. We will still have 240k rows of data to work with."
      ],
      "metadata": {
        "id": "zqaIjn-khP4A"
      }
    },
    {
      "cell_type": "code",
      "source": [
        "#The data was yet to be chnaged so we are ready to proceed\n",
        "df.shape"
      ],
      "metadata": {
        "colab": {
          "base_uri": "https://localhost:8080/"
        },
        "id": "39MxjTGChpOK",
        "outputId": "1fb178fe-820f-4830-b2df-42aab95e43a8"
      },
      "execution_count": 16,
      "outputs": [
        {
          "output_type": "execute_result",
          "data": {
            "text/plain": [
              "(311020, 22)"
            ]
          },
          "metadata": {},
          "execution_count": 16
        }
      ]
    },
    {
      "cell_type": "code",
      "source": [
        "#Dropping all rows with any NaN values\n",
        "df.dropna(how='any', inplace= True)\n",
        "\n",
        "df.shape"
      ],
      "metadata": {
        "colab": {
          "base_uri": "https://localhost:8080/"
        },
        "id": "6JOkZsPGhOQl",
        "outputId": "31dd3861-00eb-49d9-f8b9-fee79fdbba07"
      },
      "execution_count": 17,
      "outputs": [
        {
          "output_type": "execute_result",
          "data": {
            "text/plain": [
              "(191414, 22)"
            ]
          },
          "metadata": {},
          "execution_count": 17
        }
      ]
    },
    {
      "cell_type": "markdown",
      "source": [
        "## 1.3 Dealing with Duplicates"
      ],
      "metadata": {
        "id": "g3iCnFAbiHiu"
      }
    },
    {
      "cell_type": "code",
      "source": [
        "# No dupes!!!\n",
        "\n",
        "data.duplicated().sum()"
      ],
      "metadata": {
        "colab": {
          "base_uri": "https://localhost:8080/"
        },
        "id": "iyvavxzmhyI-",
        "outputId": "428d8b7c-4fd7-4937-935a-8553d1444b37"
      },
      "execution_count": 18,
      "outputs": [
        {
          "output_type": "execute_result",
          "data": {
            "text/plain": [
              "0"
            ]
          },
          "metadata": {},
          "execution_count": 18
        }
      ]
    },
    {
      "cell_type": "markdown",
      "source": [
        "# **2. Outliers**"
      ],
      "metadata": {
        "id": "yXAskDezjGQw"
      }
    },
    {
      "cell_type": "markdown",
      "source": [
        "## 2.1 Identifying numeric columns and whihc ones will help with outlier detection"
      ],
      "metadata": {
        "id": "eEQMK9TWraMp"
      }
    },
    {
      "cell_type": "code",
      "source": [
        "#This will select columns where numeric types are detected\n",
        "\n",
        "numtypes = df.select_dtypes(include='number')\n",
        "\n",
        "#We get a list of numerical columns\n",
        "numtypes.columns"
      ],
      "metadata": {
        "colab": {
          "base_uri": "https://localhost:8080/"
        },
        "id": "e9JQXFA-jrD1",
        "outputId": "e0cfc8ba-dd90-4b96-f2d9-211e3047fabb"
      },
      "execution_count": 19,
      "outputs": [
        {
          "output_type": "execute_result",
          "data": {
            "text/plain": [
              "Index(['id', 'price', 'sqfeet', 'beds', 'baths', 'cats_allowed',\n",
              "       'dogs_allowed', 'smoking_allowed', 'wheelchair_access',\n",
              "       'electric_vehicle_charge', 'comes_furnished', 'lat', 'long'],\n",
              "      dtype='object')"
            ]
          },
          "metadata": {},
          "execution_count": 19
        }
      ]
    },
    {
      "cell_type": "code",
      "source": [
        "#Some numerical data is categorical such as 'cats_allowed',\n",
        "#'dogs_allowed', 'smoking_allowed', 'wheelchair_access',\n",
        "#'electric_vehicle_charge', 'comes_furnished'.\n",
        "\n",
        "#In additional lattitude and longitude are locational data.\n",
        "\n",
        "#None of the above are useful for outlier detection\n",
        "\n",
        "numtypes.head()"
      ],
      "metadata": {
        "colab": {
          "base_uri": "https://localhost:8080/",
          "height": 0
        },
        "id": "WDatfMbikoa8",
        "outputId": "821bf95d-738a-48ac-b469-af04519ffc2d"
      },
      "execution_count": 20,
      "outputs": [
        {
          "output_type": "execute_result",
          "data": {
            "text/plain": [
              "           id  price  sqfeet  beds  baths  cats_allowed  dogs_allowed  \\\n",
              "0  7049044568   1148    1078     3    2.0             1             1   \n",
              "1  7049047186   1200    1001     2    2.0             0             0   \n",
              "2  7043634882   1813    1683     2    2.0             1             1   \n",
              "3  7049045324   1095     708     1    1.0             1             1   \n",
              "7  7049041899   1095     708     1    1.0             1             1   \n",
              "\n",
              "   smoking_allowed  wheelchair_access  electric_vehicle_charge  \\\n",
              "0                0                  0                        0   \n",
              "1                0                  0                        0   \n",
              "2                1                  0                        0   \n",
              "3                1                  0                        0   \n",
              "7                1                  0                        0   \n",
              "\n",
              "   comes_furnished      lat     long  \n",
              "0                0  39.5483 -119.796  \n",
              "1                0  39.5026 -119.789  \n",
              "2                0  39.6269 -119.708  \n",
              "3                0  39.4477 -119.771  \n",
              "7                0  39.4477 -119.771  "
            ],
            "text/html": [
              "\n",
              "  <div id=\"df-66c1afaf-05d3-4898-8205-d30fcbe0756a\">\n",
              "    <div class=\"colab-df-container\">\n",
              "      <div>\n",
              "<style scoped>\n",
              "    .dataframe tbody tr th:only-of-type {\n",
              "        vertical-align: middle;\n",
              "    }\n",
              "\n",
              "    .dataframe tbody tr th {\n",
              "        vertical-align: top;\n",
              "    }\n",
              "\n",
              "    .dataframe thead th {\n",
              "        text-align: right;\n",
              "    }\n",
              "</style>\n",
              "<table border=\"1\" class=\"dataframe\">\n",
              "  <thead>\n",
              "    <tr style=\"text-align: right;\">\n",
              "      <th></th>\n",
              "      <th>id</th>\n",
              "      <th>price</th>\n",
              "      <th>sqfeet</th>\n",
              "      <th>beds</th>\n",
              "      <th>baths</th>\n",
              "      <th>cats_allowed</th>\n",
              "      <th>dogs_allowed</th>\n",
              "      <th>smoking_allowed</th>\n",
              "      <th>wheelchair_access</th>\n",
              "      <th>electric_vehicle_charge</th>\n",
              "      <th>comes_furnished</th>\n",
              "      <th>lat</th>\n",
              "      <th>long</th>\n",
              "    </tr>\n",
              "  </thead>\n",
              "  <tbody>\n",
              "    <tr>\n",
              "      <th>0</th>\n",
              "      <td>7049044568</td>\n",
              "      <td>1148</td>\n",
              "      <td>1078</td>\n",
              "      <td>3</td>\n",
              "      <td>2.0</td>\n",
              "      <td>1</td>\n",
              "      <td>1</td>\n",
              "      <td>0</td>\n",
              "      <td>0</td>\n",
              "      <td>0</td>\n",
              "      <td>0</td>\n",
              "      <td>39.5483</td>\n",
              "      <td>-119.796</td>\n",
              "    </tr>\n",
              "    <tr>\n",
              "      <th>1</th>\n",
              "      <td>7049047186</td>\n",
              "      <td>1200</td>\n",
              "      <td>1001</td>\n",
              "      <td>2</td>\n",
              "      <td>2.0</td>\n",
              "      <td>0</td>\n",
              "      <td>0</td>\n",
              "      <td>0</td>\n",
              "      <td>0</td>\n",
              "      <td>0</td>\n",
              "      <td>0</td>\n",
              "      <td>39.5026</td>\n",
              "      <td>-119.789</td>\n",
              "    </tr>\n",
              "    <tr>\n",
              "      <th>2</th>\n",
              "      <td>7043634882</td>\n",
              "      <td>1813</td>\n",
              "      <td>1683</td>\n",
              "      <td>2</td>\n",
              "      <td>2.0</td>\n",
              "      <td>1</td>\n",
              "      <td>1</td>\n",
              "      <td>1</td>\n",
              "      <td>0</td>\n",
              "      <td>0</td>\n",
              "      <td>0</td>\n",
              "      <td>39.6269</td>\n",
              "      <td>-119.708</td>\n",
              "    </tr>\n",
              "    <tr>\n",
              "      <th>3</th>\n",
              "      <td>7049045324</td>\n",
              "      <td>1095</td>\n",
              "      <td>708</td>\n",
              "      <td>1</td>\n",
              "      <td>1.0</td>\n",
              "      <td>1</td>\n",
              "      <td>1</td>\n",
              "      <td>1</td>\n",
              "      <td>0</td>\n",
              "      <td>0</td>\n",
              "      <td>0</td>\n",
              "      <td>39.4477</td>\n",
              "      <td>-119.771</td>\n",
              "    </tr>\n",
              "    <tr>\n",
              "      <th>7</th>\n",
              "      <td>7049041899</td>\n",
              "      <td>1095</td>\n",
              "      <td>708</td>\n",
              "      <td>1</td>\n",
              "      <td>1.0</td>\n",
              "      <td>1</td>\n",
              "      <td>1</td>\n",
              "      <td>1</td>\n",
              "      <td>0</td>\n",
              "      <td>0</td>\n",
              "      <td>0</td>\n",
              "      <td>39.4477</td>\n",
              "      <td>-119.771</td>\n",
              "    </tr>\n",
              "  </tbody>\n",
              "</table>\n",
              "</div>\n",
              "      <button class=\"colab-df-convert\" onclick=\"convertToInteractive('df-66c1afaf-05d3-4898-8205-d30fcbe0756a')\"\n",
              "              title=\"Convert this dataframe to an interactive table.\"\n",
              "              style=\"display:none;\">\n",
              "        \n",
              "  <svg xmlns=\"http://www.w3.org/2000/svg\" height=\"24px\"viewBox=\"0 0 24 24\"\n",
              "       width=\"24px\">\n",
              "    <path d=\"M0 0h24v24H0V0z\" fill=\"none\"/>\n",
              "    <path d=\"M18.56 5.44l.94 2.06.94-2.06 2.06-.94-2.06-.94-.94-2.06-.94 2.06-2.06.94zm-11 1L8.5 8.5l.94-2.06 2.06-.94-2.06-.94L8.5 2.5l-.94 2.06-2.06.94zm10 10l.94 2.06.94-2.06 2.06-.94-2.06-.94-.94-2.06-.94 2.06-2.06.94z\"/><path d=\"M17.41 7.96l-1.37-1.37c-.4-.4-.92-.59-1.43-.59-.52 0-1.04.2-1.43.59L10.3 9.45l-7.72 7.72c-.78.78-.78 2.05 0 2.83L4 21.41c.39.39.9.59 1.41.59.51 0 1.02-.2 1.41-.59l7.78-7.78 2.81-2.81c.8-.78.8-2.07 0-2.86zM5.41 20L4 18.59l7.72-7.72 1.47 1.35L5.41 20z\"/>\n",
              "  </svg>\n",
              "      </button>\n",
              "      \n",
              "  <style>\n",
              "    .colab-df-container {\n",
              "      display:flex;\n",
              "      flex-wrap:wrap;\n",
              "      gap: 12px;\n",
              "    }\n",
              "\n",
              "    .colab-df-convert {\n",
              "      background-color: #E8F0FE;\n",
              "      border: none;\n",
              "      border-radius: 50%;\n",
              "      cursor: pointer;\n",
              "      display: none;\n",
              "      fill: #1967D2;\n",
              "      height: 32px;\n",
              "      padding: 0 0 0 0;\n",
              "      width: 32px;\n",
              "    }\n",
              "\n",
              "    .colab-df-convert:hover {\n",
              "      background-color: #E2EBFA;\n",
              "      box-shadow: 0px 1px 2px rgba(60, 64, 67, 0.3), 0px 1px 3px 1px rgba(60, 64, 67, 0.15);\n",
              "      fill: #174EA6;\n",
              "    }\n",
              "\n",
              "    [theme=dark] .colab-df-convert {\n",
              "      background-color: #3B4455;\n",
              "      fill: #D2E3FC;\n",
              "    }\n",
              "\n",
              "    [theme=dark] .colab-df-convert:hover {\n",
              "      background-color: #434B5C;\n",
              "      box-shadow: 0px 1px 3px 1px rgba(0, 0, 0, 0.15);\n",
              "      filter: drop-shadow(0px 1px 2px rgba(0, 0, 0, 0.3));\n",
              "      fill: #FFFFFF;\n",
              "    }\n",
              "  </style>\n",
              "\n",
              "      <script>\n",
              "        const buttonEl =\n",
              "          document.querySelector('#df-66c1afaf-05d3-4898-8205-d30fcbe0756a button.colab-df-convert');\n",
              "        buttonEl.style.display =\n",
              "          google.colab.kernel.accessAllowed ? 'block' : 'none';\n",
              "\n",
              "        async function convertToInteractive(key) {\n",
              "          const element = document.querySelector('#df-66c1afaf-05d3-4898-8205-d30fcbe0756a');\n",
              "          const dataTable =\n",
              "            await google.colab.kernel.invokeFunction('convertToInteractive',\n",
              "                                                     [key], {});\n",
              "          if (!dataTable) return;\n",
              "\n",
              "          const docLinkHtml = 'Like what you see? Visit the ' +\n",
              "            '<a target=\"_blank\" href=https://colab.research.google.com/notebooks/data_table.ipynb>data table notebook</a>'\n",
              "            + ' to learn more about interactive tables.';\n",
              "          element.innerHTML = '';\n",
              "          dataTable['output_type'] = 'display_data';\n",
              "          await google.colab.output.renderOutput(dataTable, element);\n",
              "          const docLink = document.createElement('div');\n",
              "          docLink.innerHTML = docLinkHtml;\n",
              "          element.appendChild(docLink);\n",
              "        }\n",
              "      </script>\n",
              "    </div>\n",
              "  </div>\n",
              "  "
            ]
          },
          "metadata": {},
          "execution_count": 20
        }
      ]
    },
    {
      "cell_type": "code",
      "source": [
        "df['beds'] = df['beds'].astype('int64')"
      ],
      "metadata": {
        "id": "y7IrjIfaENBQ"
      },
      "execution_count": 21,
      "outputs": []
    },
    {
      "cell_type": "code",
      "source": [
        "df['beds'].min()\n"
      ],
      "metadata": {
        "colab": {
          "base_uri": "https://localhost:8080/"
        },
        "id": "0oq_KuvpEP-4",
        "outputId": "902741c1-b4dc-4e44-c70a-307990568eb0"
      },
      "execution_count": 22,
      "outputs": [
        {
          "output_type": "execute_result",
          "data": {
            "text/plain": [
              "1"
            ]
          },
          "metadata": {},
          "execution_count": 22
        }
      ]
    },
    {
      "cell_type": "markdown",
      "source": [
        "## 2.2 Visualizing the Outliers in each column that concerns us"
      ],
      "metadata": {
        "id": "xcx_ucI3rl3j"
      }
    },
    {
      "cell_type": "code",
      "source": [
        "#We can now use the appropriate columns to detect outliers\n",
        "\n",
        "fig, ((ax1,ax2), (ax3, ax4)) = plt.subplots(2, 2, sharey=False, figsize=(20, 10))\n",
        "\n",
        "#Use np.log to better visualize the outliers since some of the values are \n",
        "#extremely out of range of the 75 percentile\n",
        "ax1.boxplot(np.log(df['price']))\n",
        "ax1.set_title('Price', fontsize=15)\n",
        "\n",
        "\n",
        "\n",
        "ax2.boxplot(np.log(df['sqfeet']))\n",
        "ax2.set_title('Square Footage', fontsize=15)\n",
        "\n",
        "\n",
        "ax3.boxplot(np.log(df['beds']))\n",
        "ax3.set_title('Number of Beds', fontsize=15)\n",
        "\n",
        "ax4.boxplot(np.log(df['baths']))\n",
        "ax4.set_title('Number of Baths', fontsize=15)\n",
        "\n",
        "# df[['price', 'sqfeet', 'beds', 'baths']].plot(kind='box', figsize=(20,20))"
      ],
      "metadata": {
        "colab": {
          "base_uri": "https://localhost:8080/",
          "height": 0
        },
        "id": "Pn1YZWJziPHE",
        "outputId": "6ac20182-9ec2-4553-bb28-02e444a9d7ad"
      },
      "execution_count": 23,
      "outputs": [
        {
          "output_type": "stream",
          "name": "stderr",
          "text": [
            "/usr/local/lib/python3.7/dist-packages/pandas/core/arraylike.py:364: RuntimeWarning: divide by zero encountered in log\n",
            "  result = getattr(ufunc, method)(*inputs, **kwargs)\n"
          ]
        },
        {
          "output_type": "execute_result",
          "data": {
            "text/plain": [
              "Text(0.5, 1.0, 'Number of Baths')"
            ]
          },
          "metadata": {},
          "execution_count": 23
        },
        {
          "output_type": "display_data",
          "data": {
            "text/plain": [
              "<Figure size 1440x720 with 4 Axes>"
            ],
            "image/png": "[encoded data removed]"
          },
          "metadata": {
            "needs_background": "light"
          }
        }
      ]
    },
    {
      "cell_type": "code",
      "source": [
        "df['beds'].astype('int64')"
      ],
      "metadata": {
        "colab": {
          "base_uri": "https://localhost:8080/"
        },
        "id": "suBVPgmKCQiC",
        "outputId": "43f9ebbe-761a-44bd-fa39-97c9ab4c75c0"
      },
      "execution_count": 24,
      "outputs": [
        {
          "output_type": "execute_result",
          "data": {
            "text/plain": [
              "0         3\n",
              "1         2\n",
              "2         2\n",
              "3         1\n",
              "7         1\n",
              "         ..\n",
              "384970    2\n",
              "384972    2\n",
              "384974    2\n",
              "384975    2\n",
              "384976    2\n",
              "Name: beds, Length: 191414, dtype: int64"
            ]
          },
          "metadata": {},
          "execution_count": 24
        }
      ]
    },
    {
      "cell_type": "code",
      "source": [
        "#Max values of the Outlir columns\n",
        "\n",
        "# df['beds'].max() #1100 Beds is very unusual. Might be an entire building\n",
        "#df['baths'].max() #75 baths\n",
        "#df['sqfeet'].max() #8388607sqft\n",
        "# df['price'].max() #$ 2,768,307,249 almost $3bil\n",
        "\n",
        "numtypes[['price', 'sqfeet', 'beds', 'baths']].describe() #We can see in the summary stats that the max values for\n",
        "#columns that concern us are way above the range in the 75th percentile\n",
        "\n"
      ],
      "metadata": {
        "colab": {
          "base_uri": "https://localhost:8080/",
          "height": 0
        },
        "id": "u3iH6UD2mCX2",
        "outputId": "9bb14aef-65a5-4be3-d4c6-c0f583283a0a"
      },
      "execution_count": 25,
      "outputs": [
        {
          "output_type": "execute_result",
          "data": {
            "text/plain": [
              "              price        sqfeet           beds          baths\n",
              "count  1.914140e+05  1.914140e+05  191414.000000  191414.000000\n",
              "mean   1.633042e+04  1.221000e+03       2.131918       1.575426\n",
              "std    6.327854e+06  2.705406e+04       3.634449       0.636645\n",
              "min    5.000000e+02  7.000000e+02       1.000000       0.000000\n",
              "25%    8.750000e+02  8.550000e+02       2.000000       1.000000\n",
              "50%    1.121000e+03  1.000000e+03       2.000000       1.500000\n",
              "75%    1.502000e+03  1.200000e+03       3.000000       2.000000\n",
              "max    2.768307e+09  8.388607e+06    1100.000000      75.000000"
            ],
            "text/html": [
              "\n",
              "  <div id=\"df-9bafa6f9-4c21-4f3a-8bff-66316a827bba\">\n",
              "    <div class=\"colab-df-container\">\n",
              "      <div>\n",
              "<style scoped>\n",
              "    .dataframe tbody tr th:only-of-type {\n",
              "        vertical-align: middle;\n",
              "    }\n",
              "\n",
              "    .dataframe tbody tr th {\n",
              "        vertical-align: top;\n",
              "    }\n",
              "\n",
              "    .dataframe thead th {\n",
              "        text-align: right;\n",
              "    }\n",
              "</style>\n",
              "<table border=\"1\" class=\"dataframe\">\n",
              "  <thead>\n",
              "    <tr style=\"text-align: right;\">\n",
              "      <th></th>\n",
              "      <th>price</th>\n",
              "      <th>sqfeet</th>\n",
              "      <th>beds</th>\n",
              "      <th>baths</th>\n",
              "    </tr>\n",
              "  </thead>\n",
              "  <tbody>\n",
              "    <tr>\n",
              "      <th>count</th>\n",
              "      <td>1.914140e+05</td>\n",
              "      <td>1.914140e+05</td>\n",
              "      <td>191414.000000</td>\n",
              "      <td>191414.000000</td>\n",
              "    </tr>\n",
              "    <tr>\n",
              "      <th>mean</th>\n",
              "      <td>1.633042e+04</td>\n",
              "      <td>1.221000e+03</td>\n",
              "      <td>2.131918</td>\n",
              "      <td>1.575426</td>\n",
              "    </tr>\n",
              "    <tr>\n",
              "      <th>std</th>\n",
              "      <td>6.327854e+06</td>\n",
              "      <td>2.705406e+04</td>\n",
              "      <td>3.634449</td>\n",
              "      <td>0.636645</td>\n",
              "    </tr>\n",
              "    <tr>\n",
              "      <th>min</th>\n",
              "      <td>5.000000e+02</td>\n",
              "      <td>7.000000e+02</td>\n",
              "      <td>1.000000</td>\n",
              "      <td>0.000000</td>\n",
              "    </tr>\n",
              "    <tr>\n",
              "      <th>25%</th>\n",
              "      <td>8.750000e+02</td>\n",
              "      <td>8.550000e+02</td>\n",
              "      <td>2.000000</td>\n",
              "      <td>1.000000</td>\n",
              "    </tr>\n",
              "    <tr>\n",
              "      <th>50%</th>\n",
              "      <td>1.121000e+03</td>\n",
              "      <td>1.000000e+03</td>\n",
              "      <td>2.000000</td>\n",
              "      <td>1.500000</td>\n",
              "    </tr>\n",
              "    <tr>\n",
              "      <th>75%</th>\n",
              "      <td>1.502000e+03</td>\n",
              "      <td>1.200000e+03</td>\n",
              "      <td>3.000000</td>\n",
              "      <td>2.000000</td>\n",
              "    </tr>\n",
              "    <tr>\n",
              "      <th>max</th>\n",
              "      <td>2.768307e+09</td>\n",
              "      <td>8.388607e+06</td>\n",
              "      <td>1100.000000</td>\n",
              "      <td>75.000000</td>\n",
              "    </tr>\n",
              "  </tbody>\n",
              "</table>\n",
              "</div>\n",
              "      <button class=\"colab-df-convert\" onclick=\"convertToInteractive('df-9bafa6f9-4c21-4f3a-8bff-66316a827bba')\"\n",
              "              title=\"Convert this dataframe to an interactive table.\"\n",
              "              style=\"display:none;\">\n",
              "        \n",
              "  <svg xmlns=\"http://www.w3.org/2000/svg\" height=\"24px\"viewBox=\"0 0 24 24\"\n",
              "       width=\"24px\">\n",
              "    <path d=\"M0 0h24v24H0V0z\" fill=\"none\"/>\n",
              "    <path d=\"M18.56 5.44l.94 2.06.94-2.06 2.06-.94-2.06-.94-.94-2.06-.94 2.06-2.06.94zm-11 1L8.5 8.5l.94-2.06 2.06-.94-2.06-.94L8.5 2.5l-.94 2.06-2.06.94zm10 10l.94 2.06.94-2.06 2.06-.94-2.06-.94-.94-2.06-.94 2.06-2.06.94z\"/><path d=\"M17.41 7.96l-1.37-1.37c-.4-.4-.92-.59-1.43-.59-.52 0-1.04.2-1.43.59L10.3 9.45l-7.72 7.72c-.78.78-.78 2.05 0 2.83L4 21.41c.39.39.9.59 1.41.59.51 0 1.02-.2 1.41-.59l7.78-7.78 2.81-2.81c.8-.78.8-2.07 0-2.86zM5.41 20L4 18.59l7.72-7.72 1.47 1.35L5.41 20z\"/>\n",
              "  </svg>\n",
              "      </button>\n",
              "      \n",
              "  <style>\n",
              "    .colab-df-container {\n",
              "      display:flex;\n",
              "      flex-wrap:wrap;\n",
              "      gap: 12px;\n",
              "    }\n",
              "\n",
              "    .colab-df-convert {\n",
              "      background-color: #E8F0FE;\n",
              "      border: none;\n",
              "      border-radius: 50%;\n",
              "      cursor: pointer;\n",
              "      display: none;\n",
              "      fill: #1967D2;\n",
              "      height: 32px;\n",
              "      padding: 0 0 0 0;\n",
              "      width: 32px;\n",
              "    }\n",
              "\n",
              "    .colab-df-convert:hover {\n",
              "      background-color: #E2EBFA;\n",
              "      box-shadow: 0px 1px 2px rgba(60, 64, 67, 0.3), 0px 1px 3px 1px rgba(60, 64, 67, 0.15);\n",
              "      fill: #174EA6;\n",
              "    }\n",
              "\n",
              "    [theme=dark] .colab-df-convert {\n",
              "      background-color: #3B4455;\n",
              "      fill: #D2E3FC;\n",
              "    }\n",
              "\n",
              "    [theme=dark] .colab-df-convert:hover {\n",
              "      background-color: #434B5C;\n",
              "      box-shadow: 0px 1px 3px 1px rgba(0, 0, 0, 0.15);\n",
              "      filter: drop-shadow(0px 1px 2px rgba(0, 0, 0, 0.3));\n",
              "      fill: #FFFFFF;\n",
              "    }\n",
              "  </style>\n",
              "\n",
              "      <script>\n",
              "        const buttonEl =\n",
              "          document.querySelector('#df-9bafa6f9-4c21-4f3a-8bff-66316a827bba button.colab-df-convert');\n",
              "        buttonEl.style.display =\n",
              "          google.colab.kernel.accessAllowed ? 'block' : 'none';\n",
              "\n",
              "        async function convertToInteractive(key) {\n",
              "          const element = document.querySelector('#df-9bafa6f9-4c21-4f3a-8bff-66316a827bba');\n",
              "          const dataTable =\n",
              "            await google.colab.kernel.invokeFunction('convertToInteractive',\n",
              "                                                     [key], {});\n",
              "          if (!dataTable) return;\n",
              "\n",
              "          const docLinkHtml = 'Like what you see? Visit the ' +\n",
              "            '<a target=\"_blank\" href=https://colab.research.google.com/notebooks/data_table.ipynb>data table notebook</a>'\n",
              "            + ' to learn more about interactive tables.';\n",
              "          element.innerHTML = '';\n",
              "          dataTable['output_type'] = 'display_data';\n",
              "          await google.colab.output.renderOutput(dataTable, element);\n",
              "          const docLink = document.createElement('div');\n",
              "          docLink.innerHTML = docLinkHtml;\n",
              "          element.appendChild(docLink);\n",
              "        }\n",
              "      </script>\n",
              "    </div>\n",
              "  </div>\n",
              "  "
            ]
          },
          "metadata": {},
          "execution_count": 25
        }
      ]
    },
    {
      "cell_type": "code",
      "source": [
        "df['sqfeet'].sort_values()"
      ],
      "metadata": {
        "colab": {
          "base_uri": "https://localhost:8080/"
        },
        "id": "0SGWnFfwHwhK",
        "outputId": "faf83c6c-0896-496b-9586-937c1be79a38"
      },
      "execution_count": 26,
      "outputs": [
        {
          "output_type": "execute_result",
          "data": {
            "text/plain": [
              "8250          700\n",
              "213204        700\n",
              "356602        700\n",
              "285544        700\n",
              "216329        700\n",
              "           ...   \n",
              "140646     999999\n",
              "6607      1019856\n",
              "6608      1019856\n",
              "356695    8000000\n",
              "159607    8388607\n",
              "Name: sqfeet, Length: 191414, dtype: int64"
            ]
          },
          "metadata": {},
          "execution_count": 26
        }
      ]
    },
    {
      "cell_type": "markdown",
      "source": [
        "## 2.3 Function for replacing outlier with upper and lower bound values"
      ],
      "metadata": {
        "id": "392RmUz8s8QU"
      }
    },
    {
      "cell_type": "code",
      "source": [
        "def outlier_replace(col):\n",
        "  '''\n",
        "  # This function takes a series (column)\n",
        "  and replaces detected outliers with the \n",
        "  lower and uper bounds of the data.\n",
        "  ---\n",
        "  Input:\n",
        "  col(float or int): A column of choice either \n",
        "  int or float.\n",
        "  ---\n",
        "  Output:\n",
        "  The column with the outlier values replaced\n",
        "  with lower and upper bound values of the date\n",
        "  '''\n",
        "  q1 = np.quantile(col, .25) #1st quantile\n",
        "  q3 = np.quantile(col, .75) #3rd quantile\n",
        "\n",
        "  iqr = q3 - q1 #The interquartile range. The middle 50% of the observations\n",
        "\n",
        "  bound_lower = q1 - 1.5 * iqr #lower bounds\n",
        "  bound_upper = q3 + 1.5 * iqr #upper bounds\n",
        "\n",
        "  #replace values below the lower bounds with the lower bound value\n",
        "  col = np.where(col < bound_lower, bound_lower, col) \n",
        "\n",
        "  #replace values above the upper bounds with the upper bound value\n",
        "  col = np.where(col > bound_upper, bound_upper, col)\n",
        "\n",
        "\n",
        "  return  col "
      ],
      "metadata": {
        "id": "bGjVwrQfsDFH"
      },
      "execution_count": 27,
      "outputs": []
    },
    {
      "cell_type": "code",
      "source": [
        "# Applying the function to the columns that concern us\n",
        "\n",
        "df['price'] = outlier_replace(df['price'])\n",
        "\n",
        "df['sqfeet'] = outlier_replace(df['sqfeet'])\n",
        "\n",
        "df[ 'beds'] = outlier_replace(df[ 'beds'])\n",
        "\n",
        "df['baths'] = outlier_replace(df['baths'])\n"
      ],
      "metadata": {
        "id": "9IvRC4C5u0Qy"
      },
      "execution_count": 28,
      "outputs": []
    },
    {
      "cell_type": "code",
      "source": [
        "fig, ((ax1,ax2), (ax3, ax4)) = plt.subplots(2, 2, sharey=False, figsize=(20, 10))\n",
        "\n",
        "#Use np.log to better visualize the outliers since some of the values are \n",
        "#extremely out of range of the 75 percentile\n",
        "ax1.boxplot(np.log(df['price']))\n",
        "ax1.set_title('Price', fontsize=15)\n",
        "\n",
        "\n",
        "\n",
        "ax2.boxplot(df['sqfeet'])\n",
        "ax2.set_title('Square Footage', fontsize=15)\n",
        "\n",
        "\n",
        "ax3.boxplot(df['beds'])\n",
        "ax3.set_title('Number of Beds', fontsize=15)\n",
        "\n",
        "ax4.boxplot(df['baths'])\n",
        "ax4.set_title('Number of Baths', fontsize=15)"
      ],
      "metadata": {
        "colab": {
          "base_uri": "https://localhost:8080/",
          "height": 0
        },
        "id": "gJQRVUuYxPuw",
        "outputId": "2c6ef6d6-c7d3-4ba4-a7a7-43b95e145aff"
      },
      "execution_count": 29,
      "outputs": [
        {
          "output_type": "execute_result",
          "data": {
            "text/plain": [
              "Text(0.5, 1.0, 'Number of Baths')"
            ]
          },
          "metadata": {},
          "execution_count": 29
        },
        {
          "output_type": "display_data",
          "data": {
            "text/plain": [
              "<Figure size 1440x720 with 4 Axes>"
            ],
            "image/png": "[encoded data removed]"
          },
          "metadata": {
            "needs_background": "light"
          }
        }
      ]
    },
    {
      "cell_type": "code",
      "source": [
        "#There are still outliers in sqfeet. \n",
        "df['sqfeet'].sort_values()"
      ],
      "metadata": {
        "colab": {
          "base_uri": "https://localhost:8080/"
        },
        "id": "r7JQQinONBZz",
        "outputId": "25d13135-5d04-46f2-ae2d-6902d51910a0"
      },
      "execution_count": 30,
      "outputs": [
        {
          "output_type": "execute_result",
          "data": {
            "text/plain": [
              "8250       700.0\n",
              "213204     700.0\n",
              "356602     700.0\n",
              "285544     700.0\n",
              "216329     700.0\n",
              "           ...  \n",
              "159744    1717.5\n",
              "159754    1717.5\n",
              "26992     1717.5\n",
              "27031     1717.5\n",
              "116023    1717.5\n",
              "Name: sqfeet, Length: 191414, dtype: float64"
            ]
          },
          "metadata": {},
          "execution_count": 30
        }
      ]
    },
    {
      "cell_type": "code",
      "source": [
        "# The most frequent square footage\n",
        "df['sqfeet'].mode()"
      ],
      "metadata": {
        "colab": {
          "base_uri": "https://localhost:8080/"
        },
        "id": "szKeLwPkNUOZ",
        "outputId": "984b9997-88a1-4483-a213-9c2804187f9b"
      },
      "execution_count": 31,
      "outputs": [
        {
          "output_type": "execute_result",
          "data": {
            "text/plain": [
              "0    1717.5\n",
              "dtype: float64"
            ]
          },
          "metadata": {},
          "execution_count": 31
        }
      ]
    },
    {
      "cell_type": "code",
      "source": [
        "#The bottom 25% fall in this range\n",
        "sqft_q1 = np.quantile(df['sqfeet'], .25)\n",
        "sqft_q3 = np.quantile(df['sqfeet'], .75)\n",
        "\n",
        "sq_iqr = sqft_q3 - sqft_q1\n",
        "\n",
        "sqft_low_bound = sqft_q1 - 1.5 * sq_iqr\n",
        "\n",
        "sqft_low_bound"
      ],
      "metadata": {
        "colab": {
          "base_uri": "https://localhost:8080/"
        },
        "id": "o6m44mcsORuy",
        "outputId": "ceb325b8-d266-43fc-ca76-cdfda4abd58f"
      },
      "execution_count": 32,
      "outputs": [
        {
          "output_type": "execute_result",
          "data": {
            "text/plain": [
              "337.5"
            ]
          },
          "metadata": {},
          "execution_count": 32
        }
      ]
    },
    {
      "cell_type": "code",
      "source": [
        "# We can keep the values shown as outliers. They are all above the lower bounds\n",
        "\n",
        "df['sqfeet'].apply(lambda x : x >= 152.5).value_counts()\n",
        "\n"
      ],
      "metadata": {
        "colab": {
          "base_uri": "https://localhost:8080/"
        },
        "id": "kil4msY5No4S",
        "outputId": "effcb3ac-d91a-41cc-9088-e39dac9cc2f1"
      },
      "execution_count": 33,
      "outputs": [
        {
          "output_type": "execute_result",
          "data": {
            "text/plain": [
              "True    191414\n",
              "Name: sqfeet, dtype: int64"
            ]
          },
          "metadata": {},
          "execution_count": 33
        }
      ]
    },
    {
      "cell_type": "code",
      "source": [
        "#We are left with 230k rows of data after cleaning\n",
        "df.shape"
      ],
      "metadata": {
        "colab": {
          "base_uri": "https://localhost:8080/"
        },
        "id": "9Cx7iC08KJRa",
        "outputId": "ae7eade3-2a63-4bd0-f8bf-227eebb10a32"
      },
      "execution_count": 34,
      "outputs": [
        {
          "output_type": "execute_result",
          "data": {
            "text/plain": [
              "(191414, 22)"
            ]
          },
          "metadata": {},
          "execution_count": 34
        }
      ]
    },
    {
      "cell_type": "markdown",
      "source": [
        "# **3. Analysis**"
      ],
      "metadata": {
        "id": "xp1NLxzGKuoo"
      }
    },
    {
      "cell_type": "code",
      "source": [
        "df.head()"
      ],
      "metadata": {
        "id": "gdPrJC9PKyGP",
        "colab": {
          "base_uri": "https://localhost:8080/",
          "height": 525
        },
        "outputId": "3804f0b9-bb4c-46c6-80d7-592934ae3c7f"
      },
      "execution_count": 35,
      "outputs": [
        {
          "output_type": "execute_result",
          "data": {
            "text/plain": [
              "           id                                                url  \\\n",
              "0  7049044568  https://reno.craigslist.org/apa/d/reno-beautif...   \n",
              "1  7049047186  https://reno.craigslist.org/apa/d/reno-reduced...   \n",
              "2  7043634882  https://reno.craigslist.org/apa/d/sparks-state...   \n",
              "3  7049045324  https://reno.craigslist.org/apa/d/reno-1x1-fir...   \n",
              "7  7049041899  https://reno.craigslist.org/apa/d/reno-1x1-fir...   \n",
              "\n",
              "         region                   region_url   price       type  sqfeet  beds  \\\n",
              "0  reno / tahoe  https://reno.craigslist.org  1148.0  apartment  1078.0   3.0   \n",
              "1  reno / tahoe  https://reno.craigslist.org  1200.0      condo  1001.0   2.0   \n",
              "2  reno / tahoe  https://reno.craigslist.org  1813.0  apartment  1683.0   2.0   \n",
              "3  reno / tahoe  https://reno.craigslist.org  1095.0  apartment   708.0   1.0   \n",
              "7  reno / tahoe  https://reno.craigslist.org  1095.0  apartment   708.0   1.0   \n",
              "\n",
              "   baths  cats_allowed  ...  wheelchair_access  electric_vehicle_charge  \\\n",
              "0    2.0             1  ...                  0                        0   \n",
              "1    2.0             0  ...                  0                        0   \n",
              "2    2.0             1  ...                  0                        0   \n",
              "3    1.0             1  ...                  0                        0   \n",
              "7    1.0             1  ...                  0                        0   \n",
              "\n",
              "   comes_furnished  laundry_options  parking_options  \\\n",
              "0                0      w/d in unit          carport   \n",
              "1                0      w/d hookups          carport   \n",
              "2                0      w/d in unit  attached garage   \n",
              "3                0      w/d in unit          carport   \n",
              "7                0      w/d in unit          carport   \n",
              "\n",
              "                                           image_url  \\\n",
              "0  https://images.craigslist.org/01616_daghmBUvTC...   \n",
              "1  https://images.craigslist.org/00V0V_5va0MkgO9q...   \n",
              "2  https://images.craigslist.org/00t0t_erYqC6LgB8...   \n",
              "3  https://images.craigslist.org/00303_3HSJz75zlI...   \n",
              "7  https://images.craigslist.org/00303_3HSJz75zlI...   \n",
              "\n",
              "                                         description      lat     long  state  \n",
              "0  Ridgeview by Vintage is where you will find al...  39.5483 -119.796     ca  \n",
              "1  Conveniently located in the middle town of Ren...  39.5026 -119.789     ca  \n",
              "2  2BD | 2BA | 1683SQFTDiscover exceptional servi...  39.6269 -119.708     ca  \n",
              "3  MOVE IN SPECIAL FREE WASHER/DRYER WITH 6 OR 12...  39.4477 -119.771     ca  \n",
              "7  MOVE IN SPECIAL FREE WASHER/DRYER WITH 6 OR 12...  39.4477 -119.771     ca  \n",
              "\n",
              "[5 rows x 22 columns]"
            ],
            "text/html": [
              "\n",
              "  <div id=\"df-172c9f03-5e5e-42fc-a13c-7ae8d6699edc\">\n",
              "    <div class=\"colab-df-container\">\n",
              "      <div>\n",
              "<style scoped>\n",
              "    .dataframe tbody tr th:only-of-type {\n",
              "        vertical-align: middle;\n",
              "    }\n",
              "\n",
              "    .dataframe tbody tr th {\n",
              "        vertical-align: top;\n",
              "    }\n",
              "\n",
              "    .dataframe thead th {\n",
              "        text-align: right;\n",
              "    }\n",
              "</style>\n",
              "<table border=\"1\" class=\"dataframe\">\n",
              "  <thead>\n",
              "    <tr style=\"text-align: right;\">\n",
              "      <th></th>\n",
              "      <th>id</th>\n",
              "      <th>url</th>\n",
              "      <th>region</th>\n",
              "      <th>region_url</th>\n",
              "      <th>price</th>\n",
              "      <th>type</th>\n",
              "      <th>sqfeet</th>\n",
              "      <th>beds</th>\n",
              "      <th>baths</th>\n",
              "      <th>cats_allowed</th>\n",
              "      <th>...</th>\n",
              "      <th>wheelchair_access</th>\n",
              "      <th>electric_vehicle_charge</th>\n",
              "      <th>comes_furnished</th>\n",
              "      <th>laundry_options</th>\n",
              "      <th>parking_options</th>\n",
              "      <th>image_url</th>\n",
              "      <th>description</th>\n",
              "      <th>lat</th>\n",
              "      <th>long</th>\n",
              "      <th>state</th>\n",
              "    </tr>\n",
              "  </thead>\n",
              "  <tbody>\n",
              "    <tr>\n",
              "      <th>0</th>\n",
              "      <td>7049044568</td>\n",
              "      <td>https://reno.craigslist.org/apa/d/reno-beautif...</td>\n",
              "      <td>reno / tahoe</td>\n",
              "      <td>https://reno.craigslist.org</td>\n",
              "      <td>1148.0</td>\n",
              "      <td>apartment</td>\n",
              "      <td>1078.0</td>\n",
              "      <td>3.0</td>\n",
              "      <td>2.0</td>\n",
              "      <td>1</td>\n",
              "      <td>...</td>\n",
              "      <td>0</td>\n",
              "      <td>0</td>\n",
              "      <td>0</td>\n",
              "      <td>w/d in unit</td>\n",
              "      <td>carport</td>\n",
              "      <td>https://images.craigslist.org/01616_daghmBUvTC...</td>\n",
              "      <td>Ridgeview by Vintage is where you will find al...</td>\n",
              "      <td>39.5483</td>\n",
              "      <td>-119.796</td>\n",
              "      <td>ca</td>\n",
              "    </tr>\n",
              "    <tr>\n",
              "      <th>1</th>\n",
              "      <td>7049047186</td>\n",
              "      <td>https://reno.craigslist.org/apa/d/reno-reduced...</td>\n",
              "      <td>reno / tahoe</td>\n",
              "      <td>https://reno.craigslist.org</td>\n",
              "      <td>1200.0</td>\n",
              "      <td>condo</td>\n",
              "      <td>1001.0</td>\n",
              "      <td>2.0</td>\n",
              "      <td>2.0</td>\n",
              "      <td>0</td>\n",
              "      <td>...</td>\n",
              "      <td>0</td>\n",
              "      <td>0</td>\n",
              "      <td>0</td>\n",
              "      <td>w/d hookups</td>\n",
              "      <td>carport</td>\n",
              "      <td>https://images.craigslist.org/00V0V_5va0MkgO9q...</td>\n",
              "      <td>Conveniently located in the middle town of Ren...</td>\n",
              "      <td>39.5026</td>\n",
              "      <td>-119.789</td>\n",
              "      <td>ca</td>\n",
              "    </tr>\n",
              "    <tr>\n",
              "      <th>2</th>\n",
              "      <td>7043634882</td>\n",
              "      <td>https://reno.craigslist.org/apa/d/sparks-state...</td>\n",
              "      <td>reno / tahoe</td>\n",
              "      <td>https://reno.craigslist.org</td>\n",
              "      <td>1813.0</td>\n",
              "      <td>apartment</td>\n",
              "      <td>1683.0</td>\n",
              "      <td>2.0</td>\n",
              "      <td>2.0</td>\n",
              "      <td>1</td>\n",
              "      <td>...</td>\n",
              "      <td>0</td>\n",
              "      <td>0</td>\n",
              "      <td>0</td>\n",
              "      <td>w/d in unit</td>\n",
              "      <td>attached garage</td>\n",
              "      <td>https://images.craigslist.org/00t0t_erYqC6LgB8...</td>\n",
              "      <td>2BD | 2BA | 1683SQFTDiscover exceptional servi...</td>\n",
              "      <td>39.6269</td>\n",
              "      <td>-119.708</td>\n",
              "      <td>ca</td>\n",
              "    </tr>\n",
              "    <tr>\n",
              "      <th>3</th>\n",
              "      <td>7049045324</td>\n",
              "      <td>https://reno.craigslist.org/apa/d/reno-1x1-fir...</td>\n",
              "      <td>reno / tahoe</td>\n",
              "      <td>https://reno.craigslist.org</td>\n",
              "      <td>1095.0</td>\n",
              "      <td>apartment</td>\n",
              "      <td>708.0</td>\n",
              "      <td>1.0</td>\n",
              "      <td>1.0</td>\n",
              "      <td>1</td>\n",
              "      <td>...</td>\n",
              "      <td>0</td>\n",
              "      <td>0</td>\n",
              "      <td>0</td>\n",
              "      <td>w/d in unit</td>\n",
              "      <td>carport</td>\n",
              "      <td>https://images.craigslist.org/00303_3HSJz75zlI...</td>\n",
              "      <td>MOVE IN SPECIAL FREE WASHER/DRYER WITH 6 OR 12...</td>\n",
              "      <td>39.4477</td>\n",
              "      <td>-119.771</td>\n",
              "      <td>ca</td>\n",
              "    </tr>\n",
              "    <tr>\n",
              "      <th>7</th>\n",
              "      <td>7049041899</td>\n",
              "      <td>https://reno.craigslist.org/apa/d/reno-1x1-fir...</td>\n",
              "      <td>reno / tahoe</td>\n",
              "      <td>https://reno.craigslist.org</td>\n",
              "      <td>1095.0</td>\n",
              "      <td>apartment</td>\n",
              "      <td>708.0</td>\n",
              "      <td>1.0</td>\n",
              "      <td>1.0</td>\n",
              "      <td>1</td>\n",
              "      <td>...</td>\n",
              "      <td>0</td>\n",
              "      <td>0</td>\n",
              "      <td>0</td>\n",
              "      <td>w/d in unit</td>\n",
              "      <td>carport</td>\n",
              "      <td>https://images.craigslist.org/00303_3HSJz75zlI...</td>\n",
              "      <td>MOVE IN SPECIAL FREE WASHER/DRYER WITH 6 OR 12...</td>\n",
              "      <td>39.4477</td>\n",
              "      <td>-119.771</td>\n",
              "      <td>ca</td>\n",
              "    </tr>\n",
              "  </tbody>\n",
              "</table>\n",
              "<p>5 rows × 22 columns</p>\n",
              "</div>\n",
              "      <button class=\"colab-df-convert\" onclick=\"convertToInteractive('df-172c9f03-5e5e-42fc-a13c-7ae8d6699edc')\"\n",
              "              title=\"Convert this dataframe to an interactive table.\"\n",
              "              style=\"display:none;\">\n",
              "        \n",
              "  <svg xmlns=\"http://www.w3.org/2000/svg\" height=\"24px\"viewBox=\"0 0 24 24\"\n",
              "       width=\"24px\">\n",
              "    <path d=\"M0 0h24v24H0V0z\" fill=\"none\"/>\n",
              "    <path d=\"M18.56 5.44l.94 2.06.94-2.06 2.06-.94-2.06-.94-.94-2.06-.94 2.06-2.06.94zm-11 1L8.5 8.5l.94-2.06 2.06-.94-2.06-.94L8.5 2.5l-.94 2.06-2.06.94zm10 10l.94 2.06.94-2.06 2.06-.94-2.06-.94-.94-2.06-.94 2.06-2.06.94z\"/><path d=\"M17.41 7.96l-1.37-1.37c-.4-.4-.92-.59-1.43-.59-.52 0-1.04.2-1.43.59L10.3 9.45l-7.72 7.72c-.78.78-.78 2.05 0 2.83L4 21.41c.39.39.9.59 1.41.59.51 0 1.02-.2 1.41-.59l7.78-7.78 2.81-2.81c.8-.78.8-2.07 0-2.86zM5.41 20L4 18.59l7.72-7.72 1.47 1.35L5.41 20z\"/>\n",
              "  </svg>\n",
              "      </button>\n",
              "      \n",
              "  <style>\n",
              "    .colab-df-container {\n",
              "      display:flex;\n",
              "      flex-wrap:wrap;\n",
              "      gap: 12px;\n",
              "    }\n",
              "\n",
              "    .colab-df-convert {\n",
              "      background-color: #E8F0FE;\n",
              "      border: none;\n",
              "      border-radius: 50%;\n",
              "      cursor: pointer;\n",
              "      display: none;\n",
              "      fill: #1967D2;\n",
              "      height: 32px;\n",
              "      padding: 0 0 0 0;\n",
              "      width: 32px;\n",
              "    }\n",
              "\n",
              "    .colab-df-convert:hover {\n",
              "      background-color: #E2EBFA;\n",
              "      box-shadow: 0px 1px 2px rgba(60, 64, 67, 0.3), 0px 1px 3px 1px rgba(60, 64, 67, 0.15);\n",
              "      fill: #174EA6;\n",
              "    }\n",
              "\n",
              "    [theme=dark] .colab-df-convert {\n",
              "      background-color: #3B4455;\n",
              "      fill: #D2E3FC;\n",
              "    }\n",
              "\n",
              "    [theme=dark] .colab-df-convert:hover {\n",
              "      background-color: #434B5C;\n",
              "      box-shadow: 0px 1px 3px 1px rgba(0, 0, 0, 0.15);\n",
              "      filter: drop-shadow(0px 1px 2px rgba(0, 0, 0, 0.3));\n",
              "      fill: #FFFFFF;\n",
              "    }\n",
              "  </style>\n",
              "\n",
              "      <script>\n",
              "        const buttonEl =\n",
              "          document.querySelector('#df-172c9f03-5e5e-42fc-a13c-7ae8d6699edc button.colab-df-convert');\n",
              "        buttonEl.style.display =\n",
              "          google.colab.kernel.accessAllowed ? 'block' : 'none';\n",
              "\n",
              "        async function convertToInteractive(key) {\n",
              "          const element = document.querySelector('#df-172c9f03-5e5e-42fc-a13c-7ae8d6699edc');\n",
              "          const dataTable =\n",
              "            await google.colab.kernel.invokeFunction('convertToInteractive',\n",
              "                                                     [key], {});\n",
              "          if (!dataTable) return;\n",
              "\n",
              "          const docLinkHtml = 'Like what you see? Visit the ' +\n",
              "            '<a target=\"_blank\" href=https://colab.research.google.com/notebooks/data_table.ipynb>data table notebook</a>'\n",
              "            + ' to learn more about interactive tables.';\n",
              "          element.innerHTML = '';\n",
              "          dataTable['output_type'] = 'display_data';\n",
              "          await google.colab.output.renderOutput(dataTable, element);\n",
              "          const docLink = document.createElement('div');\n",
              "          docLink.innerHTML = docLinkHtml;\n",
              "          element.appendChild(docLink);\n",
              "        }\n",
              "      </script>\n",
              "    </div>\n",
              "  </div>\n",
              "  "
            ]
          },
          "metadata": {},
          "execution_count": 35
        }
      ]
    },
    {
      "cell_type": "code",
      "source": [
        "df[['price', 'beds', 'baths', 'sqfeet']].corr()"
      ],
      "metadata": {
        "colab": {
          "base_uri": "https://localhost:8080/",
          "height": 175
        },
        "id": "ZeCnYdIZG6i-",
        "outputId": "3b027d11-c4c8-4d4d-f9df-361f271e7b9e"
      },
      "execution_count": 36,
      "outputs": [
        {
          "output_type": "execute_result",
          "data": {
            "text/plain": [
              "           price      beds     baths    sqfeet\n",
              "price   1.000000  0.203013  0.317967  0.373913\n",
              "beds    0.203013  1.000000  0.585913  0.732638\n",
              "baths   0.317967  0.585913  1.000000  0.644425\n",
              "sqfeet  0.373913  0.732638  0.644425  1.000000"
            ],
            "text/html": [
              "\n",
              "  <div id=\"df-3374219e-d271-44a2-9073-b47c353b0298\">\n",
              "    <div class=\"colab-df-container\">\n",
              "      <div>\n",
              "<style scoped>\n",
              "    .dataframe tbody tr th:only-of-type {\n",
              "        vertical-align: middle;\n",
              "    }\n",
              "\n",
              "    .dataframe tbody tr th {\n",
              "        vertical-align: top;\n",
              "    }\n",
              "\n",
              "    .dataframe thead th {\n",
              "        text-align: right;\n",
              "    }\n",
              "</style>\n",
              "<table border=\"1\" class=\"dataframe\">\n",
              "  <thead>\n",
              "    <tr style=\"text-align: right;\">\n",
              "      <th></th>\n",
              "      <th>price</th>\n",
              "      <th>beds</th>\n",
              "      <th>baths</th>\n",
              "      <th>sqfeet</th>\n",
              "    </tr>\n",
              "  </thead>\n",
              "  <tbody>\n",
              "    <tr>\n",
              "      <th>price</th>\n",
              "      <td>1.000000</td>\n",
              "      <td>0.203013</td>\n",
              "      <td>0.317967</td>\n",
              "      <td>0.373913</td>\n",
              "    </tr>\n",
              "    <tr>\n",
              "      <th>beds</th>\n",
              "      <td>0.203013</td>\n",
              "      <td>1.000000</td>\n",
              "      <td>0.585913</td>\n",
              "      <td>0.732638</td>\n",
              "    </tr>\n",
              "    <tr>\n",
              "      <th>baths</th>\n",
              "      <td>0.317967</td>\n",
              "      <td>0.585913</td>\n",
              "      <td>1.000000</td>\n",
              "      <td>0.644425</td>\n",
              "    </tr>\n",
              "    <tr>\n",
              "      <th>sqfeet</th>\n",
              "      <td>0.373913</td>\n",
              "      <td>0.732638</td>\n",
              "      <td>0.644425</td>\n",
              "      <td>1.000000</td>\n",
              "    </tr>\n",
              "  </tbody>\n",
              "</table>\n",
              "</div>\n",
              "      <button class=\"colab-df-convert\" onclick=\"convertToInteractive('df-3374219e-d271-44a2-9073-b47c353b0298')\"\n",
              "              title=\"Convert this dataframe to an interactive table.\"\n",
              "              style=\"display:none;\">\n",
              "        \n",
              "  <svg xmlns=\"http://www.w3.org/2000/svg\" height=\"24px\"viewBox=\"0 0 24 24\"\n",
              "       width=\"24px\">\n",
              "    <path d=\"M0 0h24v24H0V0z\" fill=\"none\"/>\n",
              "    <path d=\"M18.56 5.44l.94 2.06.94-2.06 2.06-.94-2.06-.94-.94-2.06-.94 2.06-2.06.94zm-11 1L8.5 8.5l.94-2.06 2.06-.94-2.06-.94L8.5 2.5l-.94 2.06-2.06.94zm10 10l.94 2.06.94-2.06 2.06-.94-2.06-.94-.94-2.06-.94 2.06-2.06.94z\"/><path d=\"M17.41 7.96l-1.37-1.37c-.4-.4-.92-.59-1.43-.59-.52 0-1.04.2-1.43.59L10.3 9.45l-7.72 7.72c-.78.78-.78 2.05 0 2.83L4 21.41c.39.39.9.59 1.41.59.51 0 1.02-.2 1.41-.59l7.78-7.78 2.81-2.81c.8-.78.8-2.07 0-2.86zM5.41 20L4 18.59l7.72-7.72 1.47 1.35L5.41 20z\"/>\n",
              "  </svg>\n",
              "      </button>\n",
              "      \n",
              "  <style>\n",
              "    .colab-df-container {\n",
              "      display:flex;\n",
              "      flex-wrap:wrap;\n",
              "      gap: 12px;\n",
              "    }\n",
              "\n",
              "    .colab-df-convert {\n",
              "      background-color: #E8F0FE;\n",
              "      border: none;\n",
              "      border-radius: 50%;\n",
              "      cursor: pointer;\n",
              "      display: none;\n",
              "      fill: #1967D2;\n",
              "      height: 32px;\n",
              "      padding: 0 0 0 0;\n",
              "      width: 32px;\n",
              "    }\n",
              "\n",
              "    .colab-df-convert:hover {\n",
              "      background-color: #E2EBFA;\n",
              "      box-shadow: 0px 1px 2px rgba(60, 64, 67, 0.3), 0px 1px 3px 1px rgba(60, 64, 67, 0.15);\n",
              "      fill: #174EA6;\n",
              "    }\n",
              "\n",
              "    [theme=dark] .colab-df-convert {\n",
              "      background-color: #3B4455;\n",
              "      fill: #D2E3FC;\n",
              "    }\n",
              "\n",
              "    [theme=dark] .colab-df-convert:hover {\n",
              "      background-color: #434B5C;\n",
              "      box-shadow: 0px 1px 3px 1px rgba(0, 0, 0, 0.15);\n",
              "      filter: drop-shadow(0px 1px 2px rgba(0, 0, 0, 0.3));\n",
              "      fill: #FFFFFF;\n",
              "    }\n",
              "  </style>\n",
              "\n",
              "      <script>\n",
              "        const buttonEl =\n",
              "          document.querySelector('#df-3374219e-d271-44a2-9073-b47c353b0298 button.colab-df-convert');\n",
              "        buttonEl.style.display =\n",
              "          google.colab.kernel.accessAllowed ? 'block' : 'none';\n",
              "\n",
              "        async function convertToInteractive(key) {\n",
              "          const element = document.querySelector('#df-3374219e-d271-44a2-9073-b47c353b0298');\n",
              "          const dataTable =\n",
              "            await google.colab.kernel.invokeFunction('convertToInteractive',\n",
              "                                                     [key], {});\n",
              "          if (!dataTable) return;\n",
              "\n",
              "          const docLinkHtml = 'Like what you see? Visit the ' +\n",
              "            '<a target=\"_blank\" href=https://colab.research.google.com/notebooks/data_table.ipynb>data table notebook</a>'\n",
              "            + ' to learn more about interactive tables.';\n",
              "          element.innerHTML = '';\n",
              "          dataTable['output_type'] = 'display_data';\n",
              "          await google.colab.output.renderOutput(dataTable, element);\n",
              "          const docLink = document.createElement('div');\n",
              "          docLink.innerHTML = docLinkHtml;\n",
              "          element.appendChild(docLink);\n",
              "        }\n",
              "      </script>\n",
              "    </div>\n",
              "  </div>\n",
              "  "
            ]
          },
          "metadata": {},
          "execution_count": 36
        }
      ]
    },
    {
      "cell_type": "code",
      "source": [
        "df['top10'] = df['state'].value_counts()\n",
        "\n",
        "df['top10']"
      ],
      "metadata": {
        "colab": {
          "base_uri": "https://localhost:8080/"
        },
        "id": "iHoOWzyULIVx",
        "outputId": "b5eb5337-65cb-47af-a657-2288bab8c980"
      },
      "execution_count": 37,
      "outputs": [
        {
          "output_type": "execute_result",
          "data": {
            "text/plain": [
              "0        NaN\n",
              "1        NaN\n",
              "2        NaN\n",
              "3        NaN\n",
              "7        NaN\n",
              "          ..\n",
              "384970   NaN\n",
              "384972   NaN\n",
              "384974   NaN\n",
              "384975   NaN\n",
              "384976   NaN\n",
              "Name: top10, Length: 191414, dtype: float64"
            ]
          },
          "metadata": {},
          "execution_count": 37
        }
      ]
    },
    {
      "cell_type": "code",
      "source": [
        "df['sqft_cat'] = pd.cut(df['sqfeet'], 5, precision=0)\n",
        "\n",
        "df['sqft_cat'].unique()"
      ],
      "metadata": {
        "colab": {
          "base_uri": "https://localhost:8080/"
        },
        "id": "1XUiFE9dJ2Kv",
        "outputId": "ab97e1f5-c48b-401c-e52f-24e4d503bdbd"
      },
      "execution_count": 38,
      "outputs": [
        {
          "output_type": "execute_result",
          "data": {
            "text/plain": [
              "[(904.0, 1107.0], (1514.0, 1718.0], (699.0, 904.0], (1107.0, 1310.0], (1310.0, 1514.0]]\n",
              "Categories (5, interval[float64, right]): [(699.0, 904.0] < (904.0, 1107.0] < (1107.0, 1310.0] <\n",
              "                                           (1310.0, 1514.0] < (1514.0, 1718.0]]"
            ]
          },
          "metadata": {},
          "execution_count": 38
        }
      ]
    },
    {
      "cell_type": "markdown",
      "source": [
        "## 3.1 Top 10 Average rents by State"
      ],
      "metadata": {
        "id": "ibH43dPSDGCy"
      }
    },
    {
      "cell_type": "code",
      "source": [
        "#top 10 state by average price\n",
        "df.groupby('state')['price'].mean().sort_values(ascending=False).head(10)"
      ],
      "metadata": {
        "colab": {
          "base_uri": "https://localhost:8080/"
        },
        "id": "Qp6VgmClIEne",
        "outputId": "a998a05a-0d70-4342-fca2-a32e1c3ffc92"
      },
      "execution_count": 39,
      "outputs": [
        {
          "output_type": "execute_result",
          "data": {
            "text/plain": [
              "state\n",
              "hi    2165.056625\n",
              "dc    1894.930049\n",
              "ma    1833.252872\n",
              "ca    1796.363456\n",
              "nj    1723.959268\n",
              "nh    1705.447170\n",
              "ri    1636.715368\n",
              "co    1600.306074\n",
              "vt    1566.315508\n",
              "wa    1517.111642\n",
              "Name: price, dtype: float64"
            ]
          },
          "metadata": {},
          "execution_count": 39
        }
      ]
    },
    {
      "cell_type": "markdown",
      "source": [
        "## 3.2 Highest Rent?"
      ],
      "metadata": {
        "id": "Z58cVjnODwx_"
      }
    },
    {
      "cell_type": "code",
      "source": [
        "df.groupby('state')['price'].mean().sort_values(ascending=False).head().plot(kind='bar', figsize=(10,10), color=['orange', 'blue', 'blue', 'blue','blue'])\n",
        "plt.xlabel('State', fontsize=20)\n",
        "plt.ylabel('Avg Rent', fontsize=20)\n",
        "plt.xticks(fontsize=15)\n",
        "plt.yticks(fontsize=15)\n",
        "plt.ylabel('Avg Rent')"
      ],
      "metadata": {
        "colab": {
          "base_uri": "https://localhost:8080/",
          "height": 0
        },
        "id": "EMZOw0nKDoE4",
        "outputId": "ad4d697b-6335-45fd-962c-f8357af4e76c"
      },
      "execution_count": 40,
      "outputs": [
        {
          "output_type": "execute_result",
          "data": {
            "text/plain": [
              "Text(0, 0.5, 'Avg Rent')"
            ]
          },
          "metadata": {},
          "execution_count": 40
        },
        {
          "output_type": "display_data",
          "data": {
            "text/plain": [
              "<Figure size 720x720 with 1 Axes>"
            ],
            "image/png": "[encoded data removed]"
          },
          "metadata": {
            "needs_background": "light"
          }
        }
      ]
    },
    {
      "cell_type": "markdown",
      "source": [
        "## 3.3 Lowest Rent AVG?"
      ],
      "metadata": {
        "id": "hulAcxf3D8h1"
      }
    },
    {
      "cell_type": "code",
      "source": [
        "df.groupby('state')['price'].mean().sort_values(ascending=False).tail().plot(kind='bar', figsize=(10,10), color=['blue', 'blue', 'blue', 'blue','orange'])\n",
        "plt.xlabel('State', fontsize=20)\n",
        "plt.xticks(fontsize=15)\n",
        "plt.yticks(fontsize=15)\n",
        "plt.ylabel('Avg Rent', fontsize=20)\n",
        "plt.ylabel('Avg Rent')"
      ],
      "metadata": {
        "colab": {
          "base_uri": "https://localhost:8080/",
          "height": 0
        },
        "id": "swtPqn-zD2qu",
        "outputId": "0639d016-7a44-443f-a234-7ec368259ad4"
      },
      "execution_count": 41,
      "outputs": [
        {
          "output_type": "execute_result",
          "data": {
            "text/plain": [
              "Text(0, 0.5, 'Avg Rent')"
            ]
          },
          "metadata": {},
          "execution_count": 41
        },
        {
          "output_type": "display_data",
          "data": {
            "text/plain": [
              "<Figure size 720x720 with 1 Axes>"
            ],
            "image/png": "[encoded data removed]"
          },
          "metadata": {
            "needs_background": "light"
          }
        }
      ]
    },
    {
      "cell_type": "markdown",
      "source": [
        "## 3.4 Relationship between price and square footage"
      ],
      "metadata": {
        "id": "-t21GU1Sgr98"
      }
    },
    {
      "cell_type": "code",
      "source": [
        "df[['price', 'sqfeet']].corr() #prices vary dratically acroos the country and likely is \n",
        "#producing noise"
      ],
      "metadata": {
        "colab": {
          "base_uri": "https://localhost:8080/",
          "height": 112
        },
        "id": "tbxdJ5pdCY-H",
        "outputId": "acb34dbc-c354-4c5d-e2b4-c6ce6579bffd"
      },
      "execution_count": 42,
      "outputs": [
        {
          "output_type": "execute_result",
          "data": {
            "text/plain": [
              "           price    sqfeet\n",
              "price   1.000000  0.373913\n",
              "sqfeet  0.373913  1.000000"
            ],
            "text/html": [
              "\n",
              "  <div id=\"df-18249a78-eb37-4348-bc39-9dc5f6897301\">\n",
              "    <div class=\"colab-df-container\">\n",
              "      <div>\n",
              "<style scoped>\n",
              "    .dataframe tbody tr th:only-of-type {\n",
              "        vertical-align: middle;\n",
              "    }\n",
              "\n",
              "    .dataframe tbody tr th {\n",
              "        vertical-align: top;\n",
              "    }\n",
              "\n",
              "    .dataframe thead th {\n",
              "        text-align: right;\n",
              "    }\n",
              "</style>\n",
              "<table border=\"1\" class=\"dataframe\">\n",
              "  <thead>\n",
              "    <tr style=\"text-align: right;\">\n",
              "      <th></th>\n",
              "      <th>price</th>\n",
              "      <th>sqfeet</th>\n",
              "    </tr>\n",
              "  </thead>\n",
              "  <tbody>\n",
              "    <tr>\n",
              "      <th>price</th>\n",
              "      <td>1.000000</td>\n",
              "      <td>0.373913</td>\n",
              "    </tr>\n",
              "    <tr>\n",
              "      <th>sqfeet</th>\n",
              "      <td>0.373913</td>\n",
              "      <td>1.000000</td>\n",
              "    </tr>\n",
              "  </tbody>\n",
              "</table>\n",
              "</div>\n",
              "      <button class=\"colab-df-convert\" onclick=\"convertToInteractive('df-18249a78-eb37-4348-bc39-9dc5f6897301')\"\n",
              "              title=\"Convert this dataframe to an interactive table.\"\n",
              "              style=\"display:none;\">\n",
              "        \n",
              "  <svg xmlns=\"http://www.w3.org/2000/svg\" height=\"24px\"viewBox=\"0 0 24 24\"\n",
              "       width=\"24px\">\n",
              "    <path d=\"M0 0h24v24H0V0z\" fill=\"none\"/>\n",
              "    <path d=\"M18.56 5.44l.94 2.06.94-2.06 2.06-.94-2.06-.94-.94-2.06-.94 2.06-2.06.94zm-11 1L8.5 8.5l.94-2.06 2.06-.94-2.06-.94L8.5 2.5l-.94 2.06-2.06.94zm10 10l.94 2.06.94-2.06 2.06-.94-2.06-.94-.94-2.06-.94 2.06-2.06.94z\"/><path d=\"M17.41 7.96l-1.37-1.37c-.4-.4-.92-.59-1.43-.59-.52 0-1.04.2-1.43.59L10.3 9.45l-7.72 7.72c-.78.78-.78 2.05 0 2.83L4 21.41c.39.39.9.59 1.41.59.51 0 1.02-.2 1.41-.59l7.78-7.78 2.81-2.81c.8-.78.8-2.07 0-2.86zM5.41 20L4 18.59l7.72-7.72 1.47 1.35L5.41 20z\"/>\n",
              "  </svg>\n",
              "      </button>\n",
              "      \n",
              "  <style>\n",
              "    .colab-df-container {\n",
              "      display:flex;\n",
              "      flex-wrap:wrap;\n",
              "      gap: 12px;\n",
              "    }\n",
              "\n",
              "    .colab-df-convert {\n",
              "      background-color: #E8F0FE;\n",
              "      border: none;\n",
              "      border-radius: 50%;\n",
              "      cursor: pointer;\n",
              "      display: none;\n",
              "      fill: #1967D2;\n",
              "      height: 32px;\n",
              "      padding: 0 0 0 0;\n",
              "      width: 32px;\n",
              "    }\n",
              "\n",
              "    .colab-df-convert:hover {\n",
              "      background-color: #E2EBFA;\n",
              "      box-shadow: 0px 1px 2px rgba(60, 64, 67, 0.3), 0px 1px 3px 1px rgba(60, 64, 67, 0.15);\n",
              "      fill: #174EA6;\n",
              "    }\n",
              "\n",
              "    [theme=dark] .colab-df-convert {\n",
              "      background-color: #3B4455;\n",
              "      fill: #D2E3FC;\n",
              "    }\n",
              "\n",
              "    [theme=dark] .colab-df-convert:hover {\n",
              "      background-color: #434B5C;\n",
              "      box-shadow: 0px 1px 3px 1px rgba(0, 0, 0, 0.15);\n",
              "      filter: drop-shadow(0px 1px 2px rgba(0, 0, 0, 0.3));\n",
              "      fill: #FFFFFF;\n",
              "    }\n",
              "  </style>\n",
              "\n",
              "      <script>\n",
              "        const buttonEl =\n",
              "          document.querySelector('#df-18249a78-eb37-4348-bc39-9dc5f6897301 button.colab-df-convert');\n",
              "        buttonEl.style.display =\n",
              "          google.colab.kernel.accessAllowed ? 'block' : 'none';\n",
              "\n",
              "        async function convertToInteractive(key) {\n",
              "          const element = document.querySelector('#df-18249a78-eb37-4348-bc39-9dc5f6897301');\n",
              "          const dataTable =\n",
              "            await google.colab.kernel.invokeFunction('convertToInteractive',\n",
              "                                                     [key], {});\n",
              "          if (!dataTable) return;\n",
              "\n",
              "          const docLinkHtml = 'Like what you see? Visit the ' +\n",
              "            '<a target=\"_blank\" href=https://colab.research.google.com/notebooks/data_table.ipynb>data table notebook</a>'\n",
              "            + ' to learn more about interactive tables.';\n",
              "          element.innerHTML = '';\n",
              "          dataTable['output_type'] = 'display_data';\n",
              "          await google.colab.output.renderOutput(dataTable, element);\n",
              "          const docLink = document.createElement('div');\n",
              "          docLink.innerHTML = docLinkHtml;\n",
              "          element.appendChild(docLink);\n",
              "        }\n",
              "      </script>\n",
              "    </div>\n",
              "  </div>\n",
              "  "
            ]
          },
          "metadata": {},
          "execution_count": 42
        }
      ]
    },
    {
      "cell_type": "code",
      "source": [
        "#This plot is to illustrate the trend. We found that there were too many trends to plot\n",
        "#and resorted to using a rolling average of the average.\n",
        "\n",
        "\n",
        "grouped = df.groupby('sqfeet')['price'].mean().rolling(50).mean() #We need the mean function to plot this\n",
        "#But we also need to declare the rolling average because there are too many mean values to plot\n",
        "#and plot the trend.\n",
        "\n",
        "x = grouped.index.values #the groupby column is the index. \n",
        "#We want the values of the index column which represent sqfeet\n",
        "\n",
        "y = grouped.values #price\n",
        "\n",
        "\n",
        "plt.figure(figsize=(15,15))\n",
        "plt.plot(x,y)\n",
        "\n",
        "plt.title('Price and Square Footage (Rolling Avg)', fontsize=20)\n",
        "plt.xlabel('Square Footage', fontsize=15)\n",
        "plt.xticks(fontsize=15)\n",
        "plt.ylabel('Price', fontsize=15)\n",
        "plt.yticks(fontsize=15)\n",
        "plt.style.use('ggplot')\n",
        "\n",
        "\n"
      ],
      "metadata": {
        "colab": {
          "base_uri": "https://localhost:8080/",
          "height": 908
        },
        "id": "N30akzTzh7Sr",
        "outputId": "dbff6776-22ba-47fb-ef52-6cb93e689fe3"
      },
      "execution_count": 70,
      "outputs": [
        {
          "output_type": "display_data",
          "data": {
            "text/plain": [
              "<Figure size 1080x1080 with 1 Axes>"
            ],
            "image/png": "[encoded data removed]"
          },
          "metadata": {}
        }
      ]
    },
    {
      "cell_type": "markdown",
      "source": [
        "### There is a correlation between square footage and price."
      ],
      "metadata": {
        "id": "0hIZpc14qtC0"
      }
    },
    {
      "cell_type": "markdown",
      "source": [
        "## 3.5 Average Price of Smoking vs No Smoking "
      ],
      "metadata": {
        "id": "GbzMCuP-BXEo"
      }
    },
    {
      "cell_type": "code",
      "source": [
        "df['smoking_status'] = np.where(df['smoking_allowed'] == 0 , 'no', 'yes')"
      ],
      "metadata": {
        "id": "fHHGiXEiHL-t"
      },
      "execution_count": 44,
      "outputs": []
    },
    {
      "cell_type": "code",
      "source": [
        "df.pivot_table(index=['smoking_status'], values='price', aggfunc='mean')"
      ],
      "metadata": {
        "id": "bpycizw6Ra6N",
        "colab": {
          "base_uri": "https://localhost:8080/",
          "height": 143
        },
        "outputId": "a3e8fb96-fc87-4f31-e21b-32eb7e6cb8bb"
      },
      "execution_count": 45,
      "outputs": [
        {
          "output_type": "execute_result",
          "data": {
            "text/plain": [
              "                      price\n",
              "smoking_status             \n",
              "no              1381.921923\n",
              "yes             1176.744694"
            ],
            "text/html": [
              "\n",
              "  <div id=\"df-a812e981-a732-4106-83cc-c37cd3b4d1f0\">\n",
              "    <div class=\"colab-df-container\">\n",
              "      <div>\n",
              "<style scoped>\n",
              "    .dataframe tbody tr th:only-of-type {\n",
              "        vertical-align: middle;\n",
              "    }\n",
              "\n",
              "    .dataframe tbody tr th {\n",
              "        vertical-align: top;\n",
              "    }\n",
              "\n",
              "    .dataframe thead th {\n",
              "        text-align: right;\n",
              "    }\n",
              "</style>\n",
              "<table border=\"1\" class=\"dataframe\">\n",
              "  <thead>\n",
              "    <tr style=\"text-align: right;\">\n",
              "      <th></th>\n",
              "      <th>price</th>\n",
              "    </tr>\n",
              "    <tr>\n",
              "      <th>smoking_status</th>\n",
              "      <th></th>\n",
              "    </tr>\n",
              "  </thead>\n",
              "  <tbody>\n",
              "    <tr>\n",
              "      <th>no</th>\n",
              "      <td>1381.921923</td>\n",
              "    </tr>\n",
              "    <tr>\n",
              "      <th>yes</th>\n",
              "      <td>1176.744694</td>\n",
              "    </tr>\n",
              "  </tbody>\n",
              "</table>\n",
              "</div>\n",
              "      <button class=\"colab-df-convert\" onclick=\"convertToInteractive('df-a812e981-a732-4106-83cc-c37cd3b4d1f0')\"\n",
              "              title=\"Convert this dataframe to an interactive table.\"\n",
              "              style=\"display:none;\">\n",
              "        \n",
              "  <svg xmlns=\"http://www.w3.org/2000/svg\" height=\"24px\"viewBox=\"0 0 24 24\"\n",
              "       width=\"24px\">\n",
              "    <path d=\"M0 0h24v24H0V0z\" fill=\"none\"/>\n",
              "    <path d=\"M18.56 5.44l.94 2.06.94-2.06 2.06-.94-2.06-.94-.94-2.06-.94 2.06-2.06.94zm-11 1L8.5 8.5l.94-2.06 2.06-.94-2.06-.94L8.5 2.5l-.94 2.06-2.06.94zm10 10l.94 2.06.94-2.06 2.06-.94-2.06-.94-.94-2.06-.94 2.06-2.06.94z\"/><path d=\"M17.41 7.96l-1.37-1.37c-.4-.4-.92-.59-1.43-.59-.52 0-1.04.2-1.43.59L10.3 9.45l-7.72 7.72c-.78.78-.78 2.05 0 2.83L4 21.41c.39.39.9.59 1.41.59.51 0 1.02-.2 1.41-.59l7.78-7.78 2.81-2.81c.8-.78.8-2.07 0-2.86zM5.41 20L4 18.59l7.72-7.72 1.47 1.35L5.41 20z\"/>\n",
              "  </svg>\n",
              "      </button>\n",
              "      \n",
              "  <style>\n",
              "    .colab-df-container {\n",
              "      display:flex;\n",
              "      flex-wrap:wrap;\n",
              "      gap: 12px;\n",
              "    }\n",
              "\n",
              "    .colab-df-convert {\n",
              "      background-color: #E8F0FE;\n",
              "      border: none;\n",
              "      border-radius: 50%;\n",
              "      cursor: pointer;\n",
              "      display: none;\n",
              "      fill: #1967D2;\n",
              "      height: 32px;\n",
              "      padding: 0 0 0 0;\n",
              "      width: 32px;\n",
              "    }\n",
              "\n",
              "    .colab-df-convert:hover {\n",
              "      background-color: #E2EBFA;\n",
              "      box-shadow: 0px 1px 2px rgba(60, 64, 67, 0.3), 0px 1px 3px 1px rgba(60, 64, 67, 0.15);\n",
              "      fill: #174EA6;\n",
              "    }\n",
              "\n",
              "    [theme=dark] .colab-df-convert {\n",
              "      background-color: #3B4455;\n",
              "      fill: #D2E3FC;\n",
              "    }\n",
              "\n",
              "    [theme=dark] .colab-df-convert:hover {\n",
              "      background-color: #434B5C;\n",
              "      box-shadow: 0px 1px 3px 1px rgba(0, 0, 0, 0.15);\n",
              "      filter: drop-shadow(0px 1px 2px rgba(0, 0, 0, 0.3));\n",
              "      fill: #FFFFFF;\n",
              "    }\n",
              "  </style>\n",
              "\n",
              "      <script>\n",
              "        const buttonEl =\n",
              "          document.querySelector('#df-a812e981-a732-4106-83cc-c37cd3b4d1f0 button.colab-df-convert');\n",
              "        buttonEl.style.display =\n",
              "          google.colab.kernel.accessAllowed ? 'block' : 'none';\n",
              "\n",
              "        async function convertToInteractive(key) {\n",
              "          const element = document.querySelector('#df-a812e981-a732-4106-83cc-c37cd3b4d1f0');\n",
              "          const dataTable =\n",
              "            await google.colab.kernel.invokeFunction('convertToInteractive',\n",
              "                                                     [key], {});\n",
              "          if (!dataTable) return;\n",
              "\n",
              "          const docLinkHtml = 'Like what you see? Visit the ' +\n",
              "            '<a target=\"_blank\" href=https://colab.research.google.com/notebooks/data_table.ipynb>data table notebook</a>'\n",
              "            + ' to learn more about interactive tables.';\n",
              "          element.innerHTML = '';\n",
              "          dataTable['output_type'] = 'display_data';\n",
              "          await google.colab.output.renderOutput(dataTable, element);\n",
              "          const docLink = document.createElement('div');\n",
              "          docLink.innerHTML = docLinkHtml;\n",
              "          element.appendChild(docLink);\n",
              "        }\n",
              "      </script>\n",
              "    </div>\n",
              "  </div>\n",
              "  "
            ]
          },
          "metadata": {},
          "execution_count": 45
        }
      ]
    },
    {
      "cell_type": "code",
      "source": [
        "df.groupby('smoking_status')['price'].mean().plot(kind='bar', color=['green', 'grey'], figsize=(10,10))\n",
        "plt.xlabel('Smoking', fontsize=15)\n",
        "plt.xticks(fontsize=15)\n",
        "\n",
        "plt.ylabel('Price', fontsize=15)\n",
        "plt.yticks(fontsize=10)"
      ],
      "metadata": {
        "colab": {
          "base_uri": "https://localhost:8080/",
          "height": 663
        },
        "id": "NO2iAo3rIIxc",
        "outputId": "9a237796-f9fb-4ea5-cd44-26ddce42bd73"
      },
      "execution_count": 71,
      "outputs": [
        {
          "output_type": "execute_result",
          "data": {
            "text/plain": [
              "(array([   0.,  200.,  400.,  600.,  800., 1000., 1200., 1400., 1600.]),\n",
              " <a list of 9 Text major ticklabel objects>)"
            ]
          },
          "metadata": {},
          "execution_count": 71
        },
        {
          "output_type": "display_data",
          "data": {
            "text/plain": [
              "<Figure size 720x720 with 1 Axes>"
            ],
            "image/png": "[encoded data removed]"
          },
          "metadata": {}
        }
      ]
    },
    {
      "cell_type": "markdown",
      "source": [
        "## 3.6 Does the amount of listings in a State effect Price?"
      ],
      "metadata": {
        "id": "9Xh5T0ukaxYO"
      }
    },
    {
      "cell_type": "code",
      "source": [
        "#Over 20% of the properties listed are in CA, FL, Texas, 3 of the largest most populated states\n",
        "\n",
        "round(df['state'].value_counts() * 100/ len(df), 2).head(10)"
      ],
      "metadata": {
        "colab": {
          "base_uri": "https://localhost:8080/"
        },
        "id": "yg1ghtSjTe2U",
        "outputId": "e66b1b56-054a-4887-b75b-252645a33b9b"
      },
      "execution_count": 47,
      "outputs": [
        {
          "output_type": "execute_result",
          "data": {
            "text/plain": [
              "ca    10.01\n",
              "fl     6.90\n",
              "tx     6.09\n",
              "mi     4.42\n",
              "nc     4.06\n",
              "oh     3.80\n",
              "ny     3.23\n",
              "ga     2.84\n",
              "or     2.83\n",
              "va     2.81\n",
              "Name: state, dtype: float64"
            ]
          },
          "metadata": {},
          "execution_count": 47
        }
      ]
    },
    {
      "cell_type": "markdown",
      "source": [
        "## Number of Listings per State"
      ],
      "metadata": {
        "id": "GjrvBqcpFWRC"
      }
    },
    {
      "cell_type": "code",
      "source": [
        "df['state'].value_counts()"
      ],
      "metadata": {
        "colab": {
          "base_uri": "https://localhost:8080/"
        },
        "id": "myvXxiWgFEbl",
        "outputId": "71ab434c-5318-4ff6-e05f-75909bf5719d"
      },
      "execution_count": 48,
      "outputs": [
        {
          "output_type": "execute_result",
          "data": {
            "text/plain": [
              "ca    19166\n",
              "fl    13217\n",
              "tx    11656\n",
              "mi     8465\n",
              "nc     7779\n",
              "oh     7273\n",
              "ny     6174\n",
              "ga     5429\n",
              "or     5423\n",
              "va     5374\n",
              "il     5319\n",
              "co     5087\n",
              "tn     5063\n",
              "pa     4957\n",
              "mn     4520\n",
              "wi     4322\n",
              "ia     4187\n",
              "ks     4162\n",
              "al     4128\n",
              "wa     4080\n",
              "sc     3957\n",
              "az     3279\n",
              "nj     3253\n",
              "la     3190\n",
              "id     3060\n",
              "ma     2873\n",
              "in     2802\n",
              "ok     2683\n",
              "ut     2646\n",
              "ms     2278\n",
              "md     2239\n",
              "ky     2216\n",
              "nd     2208\n",
              "ct     2111\n",
              "ne     1687\n",
              "nv     1586\n",
              "ar     1480\n",
              "ri     1386\n",
              "nh     1325\n",
              "sd     1284\n",
              "ak     1265\n",
              "nm     1207\n",
              "dc     1015\n",
              "mo     1014\n",
              "hi      883\n",
              "mt      844\n",
              "de      624\n",
              "wv      400\n",
              "vt      374\n",
              "me      324\n",
              "wy      140\n",
              "Name: state, dtype: int64"
            ]
          },
          "metadata": {},
          "execution_count": 48
        }
      ]
    },
    {
      "cell_type": "code",
      "source": [
        "#Spliting amouns of listing into categories: high and low.\n",
        "\n",
        "over_5k = df['state'].value_counts()[:14].index"
      ],
      "metadata": {
        "id": "SUUUHhxKTzse"
      },
      "execution_count": 49,
      "outputs": []
    },
    {
      "cell_type": "code",
      "source": [
        "#Testing of number of listings affects price\n",
        "\n",
        "#Create category columns for number of properties listed\n",
        "\n",
        "boolnames = df['state'].isin(over_5k)\n",
        "\n",
        "df['property_count_cat'] = np.where(boolnames == True, 'High', 'Low')\n",
        "\n",
        "\n",
        "\n"
      ],
      "metadata": {
        "id": "eR8vbVRtVkW4"
      },
      "execution_count": 50,
      "outputs": []
    },
    {
      "cell_type": "code",
      "source": [
        "high_prop, low_prop = df[df['property_count_cat'] == 'High'], df[df['property_count_cat'] == 'Low']\n",
        "\n",
        "high_prop.shape, low_prop.shape"
      ],
      "metadata": {
        "colab": {
          "base_uri": "https://localhost:8080/"
        },
        "id": "NIYnIwoWYbWs",
        "outputId": "ddc4f0bb-d92b-4e63-8bbe-5caac78de278"
      },
      "execution_count": 51,
      "outputs": [
        {
          "output_type": "execute_result",
          "data": {
            "text/plain": [
              "((110382, 26), (81032, 26))"
            ]
          },
          "metadata": {},
          "execution_count": 51
        }
      ]
    },
    {
      "cell_type": "code",
      "source": [
        "high_prop_sample = high_prop.sample(n=81032, random_state=42)\n",
        "\n",
        "high_prop_sample.shape"
      ],
      "metadata": {
        "colab": {
          "base_uri": "https://localhost:8080/"
        },
        "id": "MbSy6fiCY6OX",
        "outputId": "55bf3de1-af17-4f05-ecd1-c3d14c6634a9"
      },
      "execution_count": 52,
      "outputs": [
        {
          "output_type": "execute_result",
          "data": {
            "text/plain": [
              "(81032, 26)"
            ]
          },
          "metadata": {},
          "execution_count": 52
        }
      ]
    },
    {
      "cell_type": "code",
      "source": [
        "from scipy import stats\n",
        "\n",
        "\n",
        "high_property = high_prop_sample['price']\n",
        "\n",
        "low_property = low_prop['price']\n",
        "\n",
        "t2, p2 = stats.ttest_ind(high_property,low_property)\n",
        "print(\"t = \" + str(t2))\n",
        "\n",
        "#if p < 0.05 we can reject the null hypothesis\n",
        "print(\"p = \" + str(p2)) #the null hyptohesis assumes paid classes make no difference\n"
      ],
      "metadata": {
        "colab": {
          "base_uri": "https://localhost:8080/"
        },
        "id": "UnTKAzo9ZeDG",
        "outputId": "920dc28c-1db0-477d-cdb0-1ea32ddf8634"
      },
      "execution_count": 53,
      "outputs": [
        {
          "output_type": "stream",
          "name": "stdout",
          "text": [
            "t = 34.82393971194497\n",
            "p = 1.013382294678875e-264\n"
          ]
        }
      ]
    },
    {
      "cell_type": "markdown",
      "source": [
        "### No correlation between amount of properties in the data set and the price.\n",
        "\n",
        "## Our P-value shows we can not reject the null hypothesis"
      ],
      "metadata": {
        "id": "6qhpn6ZQaR5f"
      }
    },
    {
      "cell_type": "markdown",
      "source": [
        "## 3.7 Relationship between laundry options and price"
      ],
      "metadata": {
        "id": "OpW62MDkFqJh"
      }
    },
    {
      "cell_type": "code",
      "source": [
        "df.columns"
      ],
      "metadata": {
        "colab": {
          "base_uri": "https://localhost:8080/"
        },
        "id": "FKb9GqxTF27F",
        "outputId": "d05fff2f-9737-4280-ebf2-b1e1644a8077"
      },
      "execution_count": 54,
      "outputs": [
        {
          "output_type": "execute_result",
          "data": {
            "text/plain": [
              "Index(['id', 'url', 'region', 'region_url', 'price', 'type', 'sqfeet', 'beds',\n",
              "       'baths', 'cats_allowed', 'dogs_allowed', 'smoking_allowed',\n",
              "       'wheelchair_access', 'electric_vehicle_charge', 'comes_furnished',\n",
              "       'laundry_options', 'parking_options', 'image_url', 'description', 'lat',\n",
              "       'long', 'state', 'top10', 'sqft_cat', 'smoking_status',\n",
              "       'property_count_cat'],\n",
              "      dtype='object')"
            ]
          },
          "metadata": {},
          "execution_count": 54
        }
      ]
    },
    {
      "cell_type": "code",
      "source": [
        "df.groupby('laundry_options')['price'].mean().plot(kind='bar', figsize=(15,15), color=['blue', 'blue','blue','blue', 'orange'])"
      ],
      "metadata": {
        "id": "FYvdt1P2aIUU",
        "colab": {
          "base_uri": "https://localhost:8080/",
          "height": 979
        },
        "outputId": "182a674a-ba4e-4c5e-9389-ded2302274a2"
      },
      "execution_count": 55,
      "outputs": [
        {
          "output_type": "execute_result",
          "data": {
            "text/plain": [
              "<matplotlib.axes._subplots.AxesSubplot at 0x7f3efb0637d0>"
            ]
          },
          "metadata": {},
          "execution_count": 55
        },
        {
          "output_type": "display_data",
          "data": {
            "text/plain": [
              "<Figure size 1080x1080 with 1 Axes>"
            ],
            "image/png": "[encoded data removed]"
          },
          "metadata": {}
        }
      ]
    },
    {
      "cell_type": "markdown",
      "source": [
        "## "
      ],
      "metadata": {
        "id": "nm-9gOPkdKUP"
      }
    },
    {
      "cell_type": "code",
      "source": [
        "df['top_or_other'] = np.where(boolnames == False, 'Other', df['state'])\n",
        "\n",
        "df['top_or_other'].head()"
      ],
      "metadata": {
        "colab": {
          "base_uri": "https://localhost:8080/"
        },
        "id": "CkCs5G1CfVUQ",
        "outputId": "0695d221-9d6a-43da-e092-da868e9e726b"
      },
      "execution_count": 56,
      "outputs": [
        {
          "output_type": "execute_result",
          "data": {
            "text/plain": [
              "0    ca\n",
              "1    ca\n",
              "2    ca\n",
              "3    ca\n",
              "7    ca\n",
              "Name: top_or_other, dtype: object"
            ]
          },
          "metadata": {},
          "execution_count": 56
        }
      ]
    },
    {
      "cell_type": "code",
      "source": [
        "pd.crosstab(index=df['top_or_other'], columns=df['laundry_options'], normalize='index').round(2)"
      ],
      "metadata": {
        "colab": {
          "base_uri": "https://localhost:8080/",
          "height": 551
        },
        "id": "sMgAEfmrhjPF",
        "outputId": "31726aab-9aee-42d1-8692-a5dd0c55bd22"
      },
      "execution_count": 57,
      "outputs": [
        {
          "output_type": "execute_result",
          "data": {
            "text/plain": [
              "laundry_options  laundry in bldg  laundry on site  no laundry on site  \\\n",
              "top_or_other                                                            \n",
              "Other                       0.13             0.15                0.01   \n",
              "ca                          0.06             0.23                0.00   \n",
              "co                          0.07             0.13                0.00   \n",
              "fl                          0.03             0.14                0.00   \n",
              "ga                          0.01             0.09                0.00   \n",
              "il                          0.23             0.12                0.01   \n",
              "mi                          0.30             0.08                0.01   \n",
              "nc                          0.02             0.11                0.02   \n",
              "ny                          0.27             0.10                0.04   \n",
              "oh                          0.26             0.12                0.01   \n",
              "or                          0.03             0.11                0.00   \n",
              "pa                          0.17             0.08                0.02   \n",
              "tn                          0.04             0.16                0.00   \n",
              "tx                          0.03             0.23                0.01   \n",
              "va                          0.04             0.16                0.01   \n",
              "\n",
              "laundry_options  w/d hookups  w/d in unit  \n",
              "top_or_other                               \n",
              "Other                   0.21         0.50  \n",
              "ca                      0.17         0.53  \n",
              "co                      0.12         0.67  \n",
              "fl                      0.29         0.54  \n",
              "ga                      0.65         0.25  \n",
              "il                      0.20         0.44  \n",
              "mi                      0.20         0.41  \n",
              "nc                      0.51         0.34  \n",
              "ny                      0.17         0.41  \n",
              "oh                      0.36         0.25  \n",
              "or                      0.26         0.59  \n",
              "pa                      0.19         0.55  \n",
              "tn                      0.58         0.22  \n",
              "tx                      0.38         0.36  \n",
              "va                      0.27         0.53  "
            ],
            "text/html": [
              "\n",
              "  <div id=\"df-da1ba340-4464-45d5-8168-56ecd9bf5105\">\n",
              "    <div class=\"colab-df-container\">\n",
              "      <div>\n",
              "<style scoped>\n",
              "    .dataframe tbody tr th:only-of-type {\n",
              "        vertical-align: middle;\n",
              "    }\n",
              "\n",
              "    .dataframe tbody tr th {\n",
              "        vertical-align: top;\n",
              "    }\n",
              "\n",
              "    .dataframe thead th {\n",
              "        text-align: right;\n",
              "    }\n",
              "</style>\n",
              "<table border=\"1\" class=\"dataframe\">\n",
              "  <thead>\n",
              "    <tr style=\"text-align: right;\">\n",
              "      <th>laundry_options</th>\n",
              "      <th>laundry in bldg</th>\n",
              "      <th>laundry on site</th>\n",
              "      <th>no laundry on site</th>\n",
              "      <th>w/d hookups</th>\n",
              "      <th>w/d in unit</th>\n",
              "    </tr>\n",
              "    <tr>\n",
              "      <th>top_or_other</th>\n",
              "      <th></th>\n",
              "      <th></th>\n",
              "      <th></th>\n",
              "      <th></th>\n",
              "      <th></th>\n",
              "    </tr>\n",
              "  </thead>\n",
              "  <tbody>\n",
              "    <tr>\n",
              "      <th>Other</th>\n",
              "      <td>0.13</td>\n",
              "      <td>0.15</td>\n",
              "      <td>0.01</td>\n",
              "      <td>0.21</td>\n",
              "      <td>0.50</td>\n",
              "    </tr>\n",
              "    <tr>\n",
              "      <th>ca</th>\n",
              "      <td>0.06</td>\n",
              "      <td>0.23</td>\n",
              "      <td>0.00</td>\n",
              "      <td>0.17</td>\n",
              "      <td>0.53</td>\n",
              "    </tr>\n",
              "    <tr>\n",
              "      <th>co</th>\n",
              "      <td>0.07</td>\n",
              "      <td>0.13</td>\n",
              "      <td>0.00</td>\n",
              "      <td>0.12</td>\n",
              "      <td>0.67</td>\n",
              "    </tr>\n",
              "    <tr>\n",
              "      <th>fl</th>\n",
              "      <td>0.03</td>\n",
              "      <td>0.14</td>\n",
              "      <td>0.00</td>\n",
              "      <td>0.29</td>\n",
              "      <td>0.54</td>\n",
              "    </tr>\n",
              "    <tr>\n",
              "      <th>ga</th>\n",
              "      <td>0.01</td>\n",
              "      <td>0.09</td>\n",
              "      <td>0.00</td>\n",
              "      <td>0.65</td>\n",
              "      <td>0.25</td>\n",
              "    </tr>\n",
              "    <tr>\n",
              "      <th>il</th>\n",
              "      <td>0.23</td>\n",
              "      <td>0.12</td>\n",
              "      <td>0.01</td>\n",
              "      <td>0.20</td>\n",
              "      <td>0.44</td>\n",
              "    </tr>\n",
              "    <tr>\n",
              "      <th>mi</th>\n",
              "      <td>0.30</td>\n",
              "      <td>0.08</td>\n",
              "      <td>0.01</td>\n",
              "      <td>0.20</td>\n",
              "      <td>0.41</td>\n",
              "    </tr>\n",
              "    <tr>\n",
              "      <th>nc</th>\n",
              "      <td>0.02</td>\n",
              "      <td>0.11</td>\n",
              "      <td>0.02</td>\n",
              "      <td>0.51</td>\n",
              "      <td>0.34</td>\n",
              "    </tr>\n",
              "    <tr>\n",
              "      <th>ny</th>\n",
              "      <td>0.27</td>\n",
              "      <td>0.10</td>\n",
              "      <td>0.04</td>\n",
              "      <td>0.17</td>\n",
              "      <td>0.41</td>\n",
              "    </tr>\n",
              "    <tr>\n",
              "      <th>oh</th>\n",
              "      <td>0.26</td>\n",
              "      <td>0.12</td>\n",
              "      <td>0.01</td>\n",
              "      <td>0.36</td>\n",
              "      <td>0.25</td>\n",
              "    </tr>\n",
              "    <tr>\n",
              "      <th>or</th>\n",
              "      <td>0.03</td>\n",
              "      <td>0.11</td>\n",
              "      <td>0.00</td>\n",
              "      <td>0.26</td>\n",
              "      <td>0.59</td>\n",
              "    </tr>\n",
              "    <tr>\n",
              "      <th>pa</th>\n",
              "      <td>0.17</td>\n",
              "      <td>0.08</td>\n",
              "      <td>0.02</td>\n",
              "      <td>0.19</td>\n",
              "      <td>0.55</td>\n",
              "    </tr>\n",
              "    <tr>\n",
              "      <th>tn</th>\n",
              "      <td>0.04</td>\n",
              "      <td>0.16</td>\n",
              "      <td>0.00</td>\n",
              "      <td>0.58</td>\n",
              "      <td>0.22</td>\n",
              "    </tr>\n",
              "    <tr>\n",
              "      <th>tx</th>\n",
              "      <td>0.03</td>\n",
              "      <td>0.23</td>\n",
              "      <td>0.01</td>\n",
              "      <td>0.38</td>\n",
              "      <td>0.36</td>\n",
              "    </tr>\n",
              "    <tr>\n",
              "      <th>va</th>\n",
              "      <td>0.04</td>\n",
              "      <td>0.16</td>\n",
              "      <td>0.01</td>\n",
              "      <td>0.27</td>\n",
              "      <td>0.53</td>\n",
              "    </tr>\n",
              "  </tbody>\n",
              "</table>\n",
              "</div>\n",
              "      <button class=\"colab-df-convert\" onclick=\"convertToInteractive('df-da1ba340-4464-45d5-8168-56ecd9bf5105')\"\n",
              "              title=\"Convert this dataframe to an interactive table.\"\n",
              "              style=\"display:none;\">\n",
              "        \n",
              "  <svg xmlns=\"http://www.w3.org/2000/svg\" height=\"24px\"viewBox=\"0 0 24 24\"\n",
              "       width=\"24px\">\n",
              "    <path d=\"M0 0h24v24H0V0z\" fill=\"none\"/>\n",
              "    <path d=\"M18.56 5.44l.94 2.06.94-2.06 2.06-.94-2.06-.94-.94-2.06-.94 2.06-2.06.94zm-11 1L8.5 8.5l.94-2.06 2.06-.94-2.06-.94L8.5 2.5l-.94 2.06-2.06.94zm10 10l.94 2.06.94-2.06 2.06-.94-2.06-.94-.94-2.06-.94 2.06-2.06.94z\"/><path d=\"M17.41 7.96l-1.37-1.37c-.4-.4-.92-.59-1.43-.59-.52 0-1.04.2-1.43.59L10.3 9.45l-7.72 7.72c-.78.78-.78 2.05 0 2.83L4 21.41c.39.39.9.59 1.41.59.51 0 1.02-.2 1.41-.59l7.78-7.78 2.81-2.81c.8-.78.8-2.07 0-2.86zM5.41 20L4 18.59l7.72-7.72 1.47 1.35L5.41 20z\"/>\n",
              "  </svg>\n",
              "      </button>\n",
              "      \n",
              "  <style>\n",
              "    .colab-df-container {\n",
              "      display:flex;\n",
              "      flex-wrap:wrap;\n",
              "      gap: 12px;\n",
              "    }\n",
              "\n",
              "    .colab-df-convert {\n",
              "      background-color: #E8F0FE;\n",
              "      border: none;\n",
              "      border-radius: 50%;\n",
              "      cursor: pointer;\n",
              "      display: none;\n",
              "      fill: #1967D2;\n",
              "      height: 32px;\n",
              "      padding: 0 0 0 0;\n",
              "      width: 32px;\n",
              "    }\n",
              "\n",
              "    .colab-df-convert:hover {\n",
              "      background-color: #E2EBFA;\n",
              "      box-shadow: 0px 1px 2px rgba(60, 64, 67, 0.3), 0px 1px 3px 1px rgba(60, 64, 67, 0.15);\n",
              "      fill: #174EA6;\n",
              "    }\n",
              "\n",
              "    [theme=dark] .colab-df-convert {\n",
              "      background-color: #3B4455;\n",
              "      fill: #D2E3FC;\n",
              "    }\n",
              "\n",
              "    [theme=dark] .colab-df-convert:hover {\n",
              "      background-color: #434B5C;\n",
              "      box-shadow: 0px 1px 3px 1px rgba(0, 0, 0, 0.15);\n",
              "      filter: drop-shadow(0px 1px 2px rgba(0, 0, 0, 0.3));\n",
              "      fill: #FFFFFF;\n",
              "    }\n",
              "  </style>\n",
              "\n",
              "      <script>\n",
              "        const buttonEl =\n",
              "          document.querySelector('#df-da1ba340-4464-45d5-8168-56ecd9bf5105 button.colab-df-convert');\n",
              "        buttonEl.style.display =\n",
              "          google.colab.kernel.accessAllowed ? 'block' : 'none';\n",
              "\n",
              "        async function convertToInteractive(key) {\n",
              "          const element = document.querySelector('#df-da1ba340-4464-45d5-8168-56ecd9bf5105');\n",
              "          const dataTable =\n",
              "            await google.colab.kernel.invokeFunction('convertToInteractive',\n",
              "                                                     [key], {});\n",
              "          if (!dataTable) return;\n",
              "\n",
              "          const docLinkHtml = 'Like what you see? Visit the ' +\n",
              "            '<a target=\"_blank\" href=https://colab.research.google.com/notebooks/data_table.ipynb>data table notebook</a>'\n",
              "            + ' to learn more about interactive tables.';\n",
              "          element.innerHTML = '';\n",
              "          dataTable['output_type'] = 'display_data';\n",
              "          await google.colab.output.renderOutput(dataTable, element);\n",
              "          const docLink = document.createElement('div');\n",
              "          docLink.innerHTML = docLinkHtml;\n",
              "          element.appendChild(docLink);\n",
              "        }\n",
              "      </script>\n",
              "    </div>\n",
              "  </div>\n",
              "  "
            ]
          },
          "metadata": {},
          "execution_count": 57
        }
      ]
    },
    {
      "cell_type": "code",
      "source": [
        "pd.crosstab(index=df['top_or_other'], columns=df['laundry_options'], normalize='index').round(2).plot(kind='bar', stacked=True, figsize=(20,10))\n",
        "plt.xlabel('Laundry Options', fontsize=15)\n",
        "plt.ylabel('Ratios', fontsize=15)\n",
        "plt.xticks(fontsize=15)\n",
        "plt.yticks(fontsize=15)"
      ],
      "metadata": {
        "colab": {
          "base_uri": "https://localhost:8080/",
          "height": 679
        },
        "id": "Zd6ZFfg8F0kw",
        "outputId": "5cdb6494-89e8-4773-d7d2-95adebc780ab"
      },
      "execution_count": 58,
      "outputs": [
        {
          "output_type": "execute_result",
          "data": {
            "text/plain": [
              "(array([0. , 0.2, 0.4, 0.6, 0.8, 1. , 1.2]),\n",
              " <a list of 7 Text major ticklabel objects>)"
            ]
          },
          "metadata": {},
          "execution_count": 58
        },
        {
          "output_type": "display_data",
          "data": {
            "text/plain": [
              "<Figure size 1440x720 with 1 Axes>"
            ],
            "image/png": "[encoded data removed]"
          },
          "metadata": {}
        }
      ]
    },
    {
      "cell_type": "markdown",
      "source": [
        "## 3.8 What type of living spaces do we have and wat is the ratio?\n",
        "\n"
      ],
      "metadata": {
        "id": "M3lEHn3Wy4hr"
      }
    },
    {
      "cell_type": "code",
      "source": [
        "df.head()"
      ],
      "metadata": {
        "colab": {
          "base_uri": "https://localhost:8080/",
          "height": 525
        },
        "id": "AoX53KZdRVrX",
        "outputId": "f32e922d-7b56-47e8-fecb-450b9ddf91c2"
      },
      "execution_count": 59,
      "outputs": [
        {
          "output_type": "execute_result",
          "data": {
            "text/plain": [
              "           id                                                url  \\\n",
              "0  7049044568  https://reno.craigslist.org/apa/d/reno-beautif...   \n",
              "1  7049047186  https://reno.craigslist.org/apa/d/reno-reduced...   \n",
              "2  7043634882  https://reno.craigslist.org/apa/d/sparks-state...   \n",
              "3  7049045324  https://reno.craigslist.org/apa/d/reno-1x1-fir...   \n",
              "7  7049041899  https://reno.craigslist.org/apa/d/reno-1x1-fir...   \n",
              "\n",
              "         region                   region_url   price       type  sqfeet  beds  \\\n",
              "0  reno / tahoe  https://reno.craigslist.org  1148.0  apartment  1078.0   3.0   \n",
              "1  reno / tahoe  https://reno.craigslist.org  1200.0      condo  1001.0   2.0   \n",
              "2  reno / tahoe  https://reno.craigslist.org  1813.0  apartment  1683.0   2.0   \n",
              "3  reno / tahoe  https://reno.craigslist.org  1095.0  apartment   708.0   1.0   \n",
              "7  reno / tahoe  https://reno.craigslist.org  1095.0  apartment   708.0   1.0   \n",
              "\n",
              "   baths  cats_allowed  ...  \\\n",
              "0    2.0             1  ...   \n",
              "1    2.0             0  ...   \n",
              "2    2.0             1  ...   \n",
              "3    1.0             1  ...   \n",
              "7    1.0             1  ...   \n",
              "\n",
              "                                           image_url  \\\n",
              "0  https://images.craigslist.org/01616_daghmBUvTC...   \n",
              "1  https://images.craigslist.org/00V0V_5va0MkgO9q...   \n",
              "2  https://images.craigslist.org/00t0t_erYqC6LgB8...   \n",
              "3  https://images.craigslist.org/00303_3HSJz75zlI...   \n",
              "7  https://images.craigslist.org/00303_3HSJz75zlI...   \n",
              "\n",
              "                                         description      lat     long  state  \\\n",
              "0  Ridgeview by Vintage is where you will find al...  39.5483 -119.796     ca   \n",
              "1  Conveniently located in the middle town of Ren...  39.5026 -119.789     ca   \n",
              "2  2BD | 2BA | 1683SQFTDiscover exceptional servi...  39.6269 -119.708     ca   \n",
              "3  MOVE IN SPECIAL FREE WASHER/DRYER WITH 6 OR 12...  39.4477 -119.771     ca   \n",
              "7  MOVE IN SPECIAL FREE WASHER/DRYER WITH 6 OR 12...  39.4477 -119.771     ca   \n",
              "\n",
              "  top10          sqft_cat smoking_status property_count_cat  top_or_other  \n",
              "0   NaN   (904.0, 1107.0]             no               High            ca  \n",
              "1   NaN   (904.0, 1107.0]             no               High            ca  \n",
              "2   NaN  (1514.0, 1718.0]            yes               High            ca  \n",
              "3   NaN    (699.0, 904.0]            yes               High            ca  \n",
              "7   NaN    (699.0, 904.0]            yes               High            ca  \n",
              "\n",
              "[5 rows x 27 columns]"
            ],
            "text/html": [
              "\n",
              "  <div id=\"df-6ce87610-ad30-4272-aa02-f34731356f24\">\n",
              "    <div class=\"colab-df-container\">\n",
              "      <div>\n",
              "<style scoped>\n",
              "    .dataframe tbody tr th:only-of-type {\n",
              "        vertical-align: middle;\n",
              "    }\n",
              "\n",
              "    .dataframe tbody tr th {\n",
              "        vertical-align: top;\n",
              "    }\n",
              "\n",
              "    .dataframe thead th {\n",
              "        text-align: right;\n",
              "    }\n",
              "</style>\n",
              "<table border=\"1\" class=\"dataframe\">\n",
              "  <thead>\n",
              "    <tr style=\"text-align: right;\">\n",
              "      <th></th>\n",
              "      <th>id</th>\n",
              "      <th>url</th>\n",
              "      <th>region</th>\n",
              "      <th>region_url</th>\n",
              "      <th>price</th>\n",
              "      <th>type</th>\n",
              "      <th>sqfeet</th>\n",
              "      <th>beds</th>\n",
              "      <th>baths</th>\n",
              "      <th>cats_allowed</th>\n",
              "      <th>...</th>\n",
              "      <th>image_url</th>\n",
              "      <th>description</th>\n",
              "      <th>lat</th>\n",
              "      <th>long</th>\n",
              "      <th>state</th>\n",
              "      <th>top10</th>\n",
              "      <th>sqft_cat</th>\n",
              "      <th>smoking_status</th>\n",
              "      <th>property_count_cat</th>\n",
              "      <th>top_or_other</th>\n",
              "    </tr>\n",
              "  </thead>\n",
              "  <tbody>\n",
              "    <tr>\n",
              "      <th>0</th>\n",
              "      <td>7049044568</td>\n",
              "      <td>https://reno.craigslist.org/apa/d/reno-beautif...</td>\n",
              "      <td>reno / tahoe</td>\n",
              "      <td>https://reno.craigslist.org</td>\n",
              "      <td>1148.0</td>\n",
              "      <td>apartment</td>\n",
              "      <td>1078.0</td>\n",
              "      <td>3.0</td>\n",
              "      <td>2.0</td>\n",
              "      <td>1</td>\n",
              "      <td>...</td>\n",
              "      <td>https://images.craigslist.org/01616_daghmBUvTC...</td>\n",
              "      <td>Ridgeview by Vintage is where you will find al...</td>\n",
              "      <td>39.5483</td>\n",
              "      <td>-119.796</td>\n",
              "      <td>ca</td>\n",
              "      <td>NaN</td>\n",
              "      <td>(904.0, 1107.0]</td>\n",
              "      <td>no</td>\n",
              "      <td>High</td>\n",
              "      <td>ca</td>\n",
              "    </tr>\n",
              "    <tr>\n",
              "      <th>1</th>\n",
              "      <td>7049047186</td>\n",
              "      <td>https://reno.craigslist.org/apa/d/reno-reduced...</td>\n",
              "      <td>reno / tahoe</td>\n",
              "      <td>https://reno.craigslist.org</td>\n",
              "      <td>1200.0</td>\n",
              "      <td>condo</td>\n",
              "      <td>1001.0</td>\n",
              "      <td>2.0</td>\n",
              "      <td>2.0</td>\n",
              "      <td>0</td>\n",
              "      <td>...</td>\n",
              "      <td>https://images.craigslist.org/00V0V_5va0MkgO9q...</td>\n",
              "      <td>Conveniently located in the middle town of Ren...</td>\n",
              "      <td>39.5026</td>\n",
              "      <td>-119.789</td>\n",
              "      <td>ca</td>\n",
              "      <td>NaN</td>\n",
              "      <td>(904.0, 1107.0]</td>\n",
              "      <td>no</td>\n",
              "      <td>High</td>\n",
              "      <td>ca</td>\n",
              "    </tr>\n",
              "    <tr>\n",
              "      <th>2</th>\n",
              "      <td>7043634882</td>\n",
              "      <td>https://reno.craigslist.org/apa/d/sparks-state...</td>\n",
              "      <td>reno / tahoe</td>\n",
              "      <td>https://reno.craigslist.org</td>\n",
              "      <td>1813.0</td>\n",
              "      <td>apartment</td>\n",
              "      <td>1683.0</td>\n",
              "      <td>2.0</td>\n",
              "      <td>2.0</td>\n",
              "      <td>1</td>\n",
              "      <td>...</td>\n",
              "      <td>https://images.craigslist.org/00t0t_erYqC6LgB8...</td>\n",
              "      <td>2BD | 2BA | 1683SQFTDiscover exceptional servi...</td>\n",
              "      <td>39.6269</td>\n",
              "      <td>-119.708</td>\n",
              "      <td>ca</td>\n",
              "      <td>NaN</td>\n",
              "      <td>(1514.0, 1718.0]</td>\n",
              "      <td>yes</td>\n",
              "      <td>High</td>\n",
              "      <td>ca</td>\n",
              "    </tr>\n",
              "    <tr>\n",
              "      <th>3</th>\n",
              "      <td>7049045324</td>\n",
              "      <td>https://reno.craigslist.org/apa/d/reno-1x1-fir...</td>\n",
              "      <td>reno / tahoe</td>\n",
              "      <td>https://reno.craigslist.org</td>\n",
              "      <td>1095.0</td>\n",
              "      <td>apartment</td>\n",
              "      <td>708.0</td>\n",
              "      <td>1.0</td>\n",
              "      <td>1.0</td>\n",
              "      <td>1</td>\n",
              "      <td>...</td>\n",
              "      <td>https://images.craigslist.org/00303_3HSJz75zlI...</td>\n",
              "      <td>MOVE IN SPECIAL FREE WASHER/DRYER WITH 6 OR 12...</td>\n",
              "      <td>39.4477</td>\n",
              "      <td>-119.771</td>\n",
              "      <td>ca</td>\n",
              "      <td>NaN</td>\n",
              "      <td>(699.0, 904.0]</td>\n",
              "      <td>yes</td>\n",
              "      <td>High</td>\n",
              "      <td>ca</td>\n",
              "    </tr>\n",
              "    <tr>\n",
              "      <th>7</th>\n",
              "      <td>7049041899</td>\n",
              "      <td>https://reno.craigslist.org/apa/d/reno-1x1-fir...</td>\n",
              "      <td>reno / tahoe</td>\n",
              "      <td>https://reno.craigslist.org</td>\n",
              "      <td>1095.0</td>\n",
              "      <td>apartment</td>\n",
              "      <td>708.0</td>\n",
              "      <td>1.0</td>\n",
              "      <td>1.0</td>\n",
              "      <td>1</td>\n",
              "      <td>...</td>\n",
              "      <td>https://images.craigslist.org/00303_3HSJz75zlI...</td>\n",
              "      <td>MOVE IN SPECIAL FREE WASHER/DRYER WITH 6 OR 12...</td>\n",
              "      <td>39.4477</td>\n",
              "      <td>-119.771</td>\n",
              "      <td>ca</td>\n",
              "      <td>NaN</td>\n",
              "      <td>(699.0, 904.0]</td>\n",
              "      <td>yes</td>\n",
              "      <td>High</td>\n",
              "      <td>ca</td>\n",
              "    </tr>\n",
              "  </tbody>\n",
              "</table>\n",
              "<p>5 rows × 27 columns</p>\n",
              "</div>\n",
              "      <button class=\"colab-df-convert\" onclick=\"convertToInteractive('df-6ce87610-ad30-4272-aa02-f34731356f24')\"\n",
              "              title=\"Convert this dataframe to an interactive table.\"\n",
              "              style=\"display:none;\">\n",
              "        \n",
              "  <svg xmlns=\"http://www.w3.org/2000/svg\" height=\"24px\"viewBox=\"0 0 24 24\"\n",
              "       width=\"24px\">\n",
              "    <path d=\"M0 0h24v24H0V0z\" fill=\"none\"/>\n",
              "    <path d=\"M18.56 5.44l.94 2.06.94-2.06 2.06-.94-2.06-.94-.94-2.06-.94 2.06-2.06.94zm-11 1L8.5 8.5l.94-2.06 2.06-.94-2.06-.94L8.5 2.5l-.94 2.06-2.06.94zm10 10l.94 2.06.94-2.06 2.06-.94-2.06-.94-.94-2.06-.94 2.06-2.06.94z\"/><path d=\"M17.41 7.96l-1.37-1.37c-.4-.4-.92-.59-1.43-.59-.52 0-1.04.2-1.43.59L10.3 9.45l-7.72 7.72c-.78.78-.78 2.05 0 2.83L4 21.41c.39.39.9.59 1.41.59.51 0 1.02-.2 1.41-.59l7.78-7.78 2.81-2.81c.8-.78.8-2.07 0-2.86zM5.41 20L4 18.59l7.72-7.72 1.47 1.35L5.41 20z\"/>\n",
              "  </svg>\n",
              "      </button>\n",
              "      \n",
              "  <style>\n",
              "    .colab-df-container {\n",
              "      display:flex;\n",
              "      flex-wrap:wrap;\n",
              "      gap: 12px;\n",
              "    }\n",
              "\n",
              "    .colab-df-convert {\n",
              "      background-color: #E8F0FE;\n",
              "      border: none;\n",
              "      border-radius: 50%;\n",
              "      cursor: pointer;\n",
              "      display: none;\n",
              "      fill: #1967D2;\n",
              "      height: 32px;\n",
              "      padding: 0 0 0 0;\n",
              "      width: 32px;\n",
              "    }\n",
              "\n",
              "    .colab-df-convert:hover {\n",
              "      background-color: #E2EBFA;\n",
              "      box-shadow: 0px 1px 2px rgba(60, 64, 67, 0.3), 0px 1px 3px 1px rgba(60, 64, 67, 0.15);\n",
              "      fill: #174EA6;\n",
              "    }\n",
              "\n",
              "    [theme=dark] .colab-df-convert {\n",
              "      background-color: #3B4455;\n",
              "      fill: #D2E3FC;\n",
              "    }\n",
              "\n",
              "    [theme=dark] .colab-df-convert:hover {\n",
              "      background-color: #434B5C;\n",
              "      box-shadow: 0px 1px 3px 1px rgba(0, 0, 0, 0.15);\n",
              "      filter: drop-shadow(0px 1px 2px rgba(0, 0, 0, 0.3));\n",
              "      fill: #FFFFFF;\n",
              "    }\n",
              "  </style>\n",
              "\n",
              "      <script>\n",
              "        const buttonEl =\n",
              "          document.querySelector('#df-6ce87610-ad30-4272-aa02-f34731356f24 button.colab-df-convert');\n",
              "        buttonEl.style.display =\n",
              "          google.colab.kernel.accessAllowed ? 'block' : 'none';\n",
              "\n",
              "        async function convertToInteractive(key) {\n",
              "          const element = document.querySelector('#df-6ce87610-ad30-4272-aa02-f34731356f24');\n",
              "          const dataTable =\n",
              "            await google.colab.kernel.invokeFunction('convertToInteractive',\n",
              "                                                     [key], {});\n",
              "          if (!dataTable) return;\n",
              "\n",
              "          const docLinkHtml = 'Like what you see? Visit the ' +\n",
              "            '<a target=\"_blank\" href=https://colab.research.google.com/notebooks/data_table.ipynb>data table notebook</a>'\n",
              "            + ' to learn more about interactive tables.';\n",
              "          element.innerHTML = '';\n",
              "          dataTable['output_type'] = 'display_data';\n",
              "          await google.colab.output.renderOutput(dataTable, element);\n",
              "          const docLink = document.createElement('div');\n",
              "          docLink.innerHTML = docLinkHtml;\n",
              "          element.appendChild(docLink);\n",
              "        }\n",
              "      </script>\n",
              "    </div>\n",
              "  </div>\n",
              "  "
            ]
          },
          "metadata": {},
          "execution_count": 59
        }
      ]
    },
    {
      "cell_type": "code",
      "source": [
        "df['type'].describe()"
      ],
      "metadata": {
        "colab": {
          "base_uri": "https://localhost:8080/"
        },
        "id": "ZLSgSRMgCakr",
        "outputId": "ed4e5cea-a2de-47b7-874b-490eb7804066"
      },
      "execution_count": 60,
      "outputs": [
        {
          "output_type": "execute_result",
          "data": {
            "text/plain": [
              "count        191414\n",
              "unique           12\n",
              "top       apartment\n",
              "freq         144823\n",
              "Name: type, dtype: object"
            ]
          },
          "metadata": {},
          "execution_count": 60
        }
      ]
    },
    {
      "cell_type": "code",
      "source": [
        "df.pivot_table(index='type', values='price', aggfunc='mean').sort_values('price', ascending=False)"
      ],
      "metadata": {
        "colab": {
          "base_uri": "https://localhost:8080/",
          "height": 457
        },
        "id": "AhYje3_9-pzu",
        "outputId": "bafac90f-d6b4-488c-9de8-0f50943e1fe9"
      },
      "execution_count": 61,
      "outputs": [
        {
          "output_type": "execute_result",
          "data": {
            "text/plain": [
              "                       price\n",
              "type                        \n",
              "assisted living  2442.500000\n",
              "flat             1596.336043\n",
              "condo            1573.574659\n",
              "house            1455.204542\n",
              "loft             1449.750000\n",
              "in-law           1356.965517\n",
              "cottage/cabin    1353.218101\n",
              "townhouse        1305.345473\n",
              "duplex           1248.779610\n",
              "apartment        1211.758705\n",
              "manufactured      965.917285\n",
              "land              750.000000"
            ],
            "text/html": [
              "\n",
              "  <div id=\"df-e96ad154-45a0-474f-bfad-0278ccef4726\">\n",
              "    <div class=\"colab-df-container\">\n",
              "      <div>\n",
              "<style scoped>\n",
              "    .dataframe tbody tr th:only-of-type {\n",
              "        vertical-align: middle;\n",
              "    }\n",
              "\n",
              "    .dataframe tbody tr th {\n",
              "        vertical-align: top;\n",
              "    }\n",
              "\n",
              "    .dataframe thead th {\n",
              "        text-align: right;\n",
              "    }\n",
              "</style>\n",
              "<table border=\"1\" class=\"dataframe\">\n",
              "  <thead>\n",
              "    <tr style=\"text-align: right;\">\n",
              "      <th></th>\n",
              "      <th>price</th>\n",
              "    </tr>\n",
              "    <tr>\n",
              "      <th>type</th>\n",
              "      <th></th>\n",
              "    </tr>\n",
              "  </thead>\n",
              "  <tbody>\n",
              "    <tr>\n",
              "      <th>assisted living</th>\n",
              "      <td>2442.500000</td>\n",
              "    </tr>\n",
              "    <tr>\n",
              "      <th>flat</th>\n",
              "      <td>1596.336043</td>\n",
              "    </tr>\n",
              "    <tr>\n",
              "      <th>condo</th>\n",
              "      <td>1573.574659</td>\n",
              "    </tr>\n",
              "    <tr>\n",
              "      <th>house</th>\n",
              "      <td>1455.204542</td>\n",
              "    </tr>\n",
              "    <tr>\n",
              "      <th>loft</th>\n",
              "      <td>1449.750000</td>\n",
              "    </tr>\n",
              "    <tr>\n",
              "      <th>in-law</th>\n",
              "      <td>1356.965517</td>\n",
              "    </tr>\n",
              "    <tr>\n",
              "      <th>cottage/cabin</th>\n",
              "      <td>1353.218101</td>\n",
              "    </tr>\n",
              "    <tr>\n",
              "      <th>townhouse</th>\n",
              "      <td>1305.345473</td>\n",
              "    </tr>\n",
              "    <tr>\n",
              "      <th>duplex</th>\n",
              "      <td>1248.779610</td>\n",
              "    </tr>\n",
              "    <tr>\n",
              "      <th>apartment</th>\n",
              "      <td>1211.758705</td>\n",
              "    </tr>\n",
              "    <tr>\n",
              "      <th>manufactured</th>\n",
              "      <td>965.917285</td>\n",
              "    </tr>\n",
              "    <tr>\n",
              "      <th>land</th>\n",
              "      <td>750.000000</td>\n",
              "    </tr>\n",
              "  </tbody>\n",
              "</table>\n",
              "</div>\n",
              "      <button class=\"colab-df-convert\" onclick=\"convertToInteractive('df-e96ad154-45a0-474f-bfad-0278ccef4726')\"\n",
              "              title=\"Convert this dataframe to an interactive table.\"\n",
              "              style=\"display:none;\">\n",
              "        \n",
              "  <svg xmlns=\"http://www.w3.org/2000/svg\" height=\"24px\"viewBox=\"0 0 24 24\"\n",
              "       width=\"24px\">\n",
              "    <path d=\"M0 0h24v24H0V0z\" fill=\"none\"/>\n",
              "    <path d=\"M18.56 5.44l.94 2.06.94-2.06 2.06-.94-2.06-.94-.94-2.06-.94 2.06-2.06.94zm-11 1L8.5 8.5l.94-2.06 2.06-.94-2.06-.94L8.5 2.5l-.94 2.06-2.06.94zm10 10l.94 2.06.94-2.06 2.06-.94-2.06-.94-.94-2.06-.94 2.06-2.06.94z\"/><path d=\"M17.41 7.96l-1.37-1.37c-.4-.4-.92-.59-1.43-.59-.52 0-1.04.2-1.43.59L10.3 9.45l-7.72 7.72c-.78.78-.78 2.05 0 2.83L4 21.41c.39.39.9.59 1.41.59.51 0 1.02-.2 1.41-.59l7.78-7.78 2.81-2.81c.8-.78.8-2.07 0-2.86zM5.41 20L4 18.59l7.72-7.72 1.47 1.35L5.41 20z\"/>\n",
              "  </svg>\n",
              "      </button>\n",
              "      \n",
              "  <style>\n",
              "    .colab-df-container {\n",
              "      display:flex;\n",
              "      flex-wrap:wrap;\n",
              "      gap: 12px;\n",
              "    }\n",
              "\n",
              "    .colab-df-convert {\n",
              "      background-color: #E8F0FE;\n",
              "      border: none;\n",
              "      border-radius: 50%;\n",
              "      cursor: pointer;\n",
              "      display: none;\n",
              "      fill: #1967D2;\n",
              "      height: 32px;\n",
              "      padding: 0 0 0 0;\n",
              "      width: 32px;\n",
              "    }\n",
              "\n",
              "    .colab-df-convert:hover {\n",
              "      background-color: #E2EBFA;\n",
              "      box-shadow: 0px 1px 2px rgba(60, 64, 67, 0.3), 0px 1px 3px 1px rgba(60, 64, 67, 0.15);\n",
              "      fill: #174EA6;\n",
              "    }\n",
              "\n",
              "    [theme=dark] .colab-df-convert {\n",
              "      background-color: #3B4455;\n",
              "      fill: #D2E3FC;\n",
              "    }\n",
              "\n",
              "    [theme=dark] .colab-df-convert:hover {\n",
              "      background-color: #434B5C;\n",
              "      box-shadow: 0px 1px 3px 1px rgba(0, 0, 0, 0.15);\n",
              "      filter: drop-shadow(0px 1px 2px rgba(0, 0, 0, 0.3));\n",
              "      fill: #FFFFFF;\n",
              "    }\n",
              "  </style>\n",
              "\n",
              "      <script>\n",
              "        const buttonEl =\n",
              "          document.querySelector('#df-e96ad154-45a0-474f-bfad-0278ccef4726 button.colab-df-convert');\n",
              "        buttonEl.style.display =\n",
              "          google.colab.kernel.accessAllowed ? 'block' : 'none';\n",
              "\n",
              "        async function convertToInteractive(key) {\n",
              "          const element = document.querySelector('#df-e96ad154-45a0-474f-bfad-0278ccef4726');\n",
              "          const dataTable =\n",
              "            await google.colab.kernel.invokeFunction('convertToInteractive',\n",
              "                                                     [key], {});\n",
              "          if (!dataTable) return;\n",
              "\n",
              "          const docLinkHtml = 'Like what you see? Visit the ' +\n",
              "            '<a target=\"_blank\" href=https://colab.research.google.com/notebooks/data_table.ipynb>data table notebook</a>'\n",
              "            + ' to learn more about interactive tables.';\n",
              "          element.innerHTML = '';\n",
              "          dataTable['output_type'] = 'display_data';\n",
              "          await google.colab.output.renderOutput(dataTable, element);\n",
              "          const docLink = document.createElement('div');\n",
              "          docLink.innerHTML = docLinkHtml;\n",
              "          element.appendChild(docLink);\n",
              "        }\n",
              "      </script>\n",
              "    </div>\n",
              "  </div>\n",
              "  "
            ]
          },
          "metadata": {},
          "execution_count": 61
        }
      ]
    },
    {
      "cell_type": "code",
      "source": [
        "df['type'].value_counts() "
      ],
      "metadata": {
        "colab": {
          "base_uri": "https://localhost:8080/"
        },
        "id": "RKxH4V9OB2GU",
        "outputId": "8fe82ad2-7190-4044-94aa-91410c14c9f9"
      },
      "execution_count": 62,
      "outputs": [
        {
          "output_type": "execute_result",
          "data": {
            "text/plain": [
              "apartment          144823\n",
              "house               21223\n",
              "townhouse           12548\n",
              "duplex               4154\n",
              "condo                3958\n",
              "manufactured         3506\n",
              "loft                  436\n",
              "flat                  369\n",
              "cottage/cabin         337\n",
              "in-law                 58\n",
              "assisted living         1\n",
              "land                    1\n",
              "Name: type, dtype: int64"
            ]
          },
          "metadata": {},
          "execution_count": 62
        }
      ]
    },
    {
      "cell_type": "code",
      "source": [
        "df['type'].value_counts() * 100/ len(df) #ratio of distribution of values"
      ],
      "metadata": {
        "colab": {
          "base_uri": "https://localhost:8080/"
        },
        "id": "N_DW_6VJ-z3A",
        "outputId": "fc146e83-7fd7-4c47-ecd4-19001335dca6"
      },
      "execution_count": 63,
      "outputs": [
        {
          "output_type": "execute_result",
          "data": {
            "text/plain": [
              "apartment          75.659565\n",
              "house              11.087486\n",
              "townhouse           6.555424\n",
              "duplex              2.170165\n",
              "condo               2.067769\n",
              "manufactured        1.831632\n",
              "loft                0.227779\n",
              "flat                0.192776\n",
              "cottage/cabin       0.176058\n",
              "in-law              0.030301\n",
              "assisted living     0.000522\n",
              "land                0.000522\n",
              "Name: type, dtype: float64"
            ]
          },
          "metadata": {},
          "execution_count": 63
        }
      ]
    },
    {
      "cell_type": "code",
      "source": [
        "df['type'].unique()"
      ],
      "metadata": {
        "colab": {
          "base_uri": "https://localhost:8080/"
        },
        "id": "pUhmfPdAAfki",
        "outputId": "0b3df637-d1ea-4ba1-aa03-3c65addd8b6c"
      },
      "execution_count": 64,
      "outputs": [
        {
          "output_type": "execute_result",
          "data": {
            "text/plain": [
              "array(['apartment', 'condo', 'house', 'duplex', 'townhouse',\n",
              "       'manufactured', 'flat', 'loft', 'cottage/cabin', 'in-law',\n",
              "       'assisted living', 'land'], dtype=object)"
            ]
          },
          "metadata": {},
          "execution_count": 64
        }
      ]
    },
    {
      "cell_type": "code",
      "source": [
        "\n",
        "palette_color = sns.color_palette('pastel')[:13]\n",
        "\n",
        "df.groupby('type').sum().plot.pie(y='price', figsize=(15,15), colors=palette_color, autopct='%1.0f%%')\n",
        "plt.title('Price Distribution by Housing Type', fontsize=15)\n",
        "\n",
        "# explode = [0, 0.1, 0, 0, 0]\n",
        "\n",
        "\n",
        "\n",
        "\n",
        "\n",
        "# tips.groupby('day').sum().plot.pie(y='tip', figsize= (10,10), autopct='%1.0f%%')\n",
        "# plt.title('Pie Chart of Tip Distribution by Day')"
      ],
      "metadata": {
        "colab": {
          "base_uri": "https://localhost:8080/",
          "height": 882
        },
        "id": "0T7lXoDSr9K0",
        "outputId": "b9cad0d8-3fd5-46ce-9a22-a38b35a5b30f"
      },
      "execution_count": 66,
      "outputs": [
        {
          "output_type": "execute_result",
          "data": {
            "text/plain": [
              "Text(0.5, 1.0, 'Price Distribution by Housing Type')"
            ]
          },
          "metadata": {},
          "execution_count": 66
        },
        {
          "output_type": "display_data",
          "data": {
            "text/plain": [
              "<Figure size 1080x1080 with 1 Axes>"
            ],
            "image/png": "[encoded data removed]"
          },
          "metadata": {}
        }
      ]
    },
    {
      "cell_type": "markdown",
      "source": [
        "## 3.9 Can we make a city column and observe distributions that way?"
      ],
      "metadata": {
        "id": "00j-KcecEKSA"
      }
    },
    {
      "cell_type": "code",
      "source": [
        "df['city'] = df['url'].apply(lambda x: x.split('.')[0][8:])\n",
        "\n",
        "df['city'].head()"
      ],
      "metadata": {
        "colab": {
          "base_uri": "https://localhost:8080/"
        },
        "id": "X9HjT5GsAiSt",
        "outputId": "7b106aeb-2732-4b3a-8e46-6a9f8158519e"
      },
      "execution_count": 67,
      "outputs": [
        {
          "output_type": "execute_result",
          "data": {
            "text/plain": [
              "0    reno\n",
              "1    reno\n",
              "2    reno\n",
              "3    reno\n",
              "7    reno\n",
              "Name: city, dtype: object"
            ]
          },
          "metadata": {},
          "execution_count": 67
        }
      ]
    },
    {
      "cell_type": "code",
      "source": [
        "df['city'].value_counts()"
      ],
      "metadata": {
        "colab": {
          "base_uri": "https://localhost:8080/"
        },
        "id": "xeci_BCqDBFB",
        "outputId": "58dfea42-0545-4538-a480-7b0ac9768a0a"
      },
      "execution_count": 68,
      "outputs": [
        {
          "output_type": "execute_result",
          "data": {
            "text/plain": [
              "omaha          1712\n",
              "spokane        1603\n",
              "lincoln        1602\n",
              "minneapolis    1574\n",
              "stlouis        1554\n",
              "               ... \n",
              "bigbend           3\n",
              "susanville        3\n",
              "elko              2\n",
              "nwks              1\n",
              "csd               1\n",
              "Name: city, Length: 413, dtype: int64"
            ]
          },
          "metadata": {},
          "execution_count": 68
        }
      ]
    },
    {
      "cell_type": "code",
      "source": [
        "df['location'] = df[['city', 'state']].apply(', '.join, axis=1)\n",
        "\n",
        "df['location'].value_counts()"
      ],
      "metadata": {
        "colab": {
          "base_uri": "https://localhost:8080/"
        },
        "id": "81tI07anD_vM",
        "outputId": "23be90ce-3915-4e11-9b18-ed663a5e4540"
      },
      "execution_count": 69,
      "outputs": [
        {
          "output_type": "execute_result",
          "data": {
            "text/plain": [
              "omaha, ia          1710\n",
              "lincoln, ne        1599\n",
              "minneapolis, mn    1574\n",
              "spokane, id        1560\n",
              "stlouis, il        1548\n",
              "                   ... \n",
              "csd, sd               1\n",
              "wheeling, wv          1\n",
              "huntington, wv        1\n",
              "grandforks, mn        1\n",
              "ogden, nv             1\n",
              "Name: location, Length: 444, dtype: int64"
            ]
          },
          "metadata": {},
          "execution_count": 69
        }
      ]
    },
    {
      "cell_type": "markdown",
      "source": [
        "### The city data is not reliable. It is still based on region whihc overlaps. Some listings are inlcuding the names of more popular living desrtinations as to say they are in the same general area."
      ],
      "metadata": {
        "id": "zRt37Bx6GDKp"
      }
    },
    {
      "cell_type": "code",
      "source": [],
      "metadata": {
        "id": "L5eMZcTGFJXa"
      },
      "execution_count": 69,
      "outputs": []
    }
  ]
}